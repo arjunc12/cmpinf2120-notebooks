{
 "cells": [
  {
   "cell_type": "markdown",
   "metadata": {},
   "source": [
    "This analysis is borrowed from Jason Brownlee https://machinelearningmastery.com/singular-value-decomposition-for-dimensionality-reduction-in-python/"
   ]
  },
  {
   "cell_type": "code",
   "execution_count": 1,
   "metadata": {},
   "outputs": [
    {
     "name": "stdout",
     "output_type": "stream",
     "text": [
      "(1000, 20) (1000,)\n"
     ]
    }
   ],
   "source": [
    "# test classification dataset\n",
    "from sklearn.datasets import make_classification\n",
    "\n",
    "# define dataset\n",
    "X, y = make_classification(n_samples=1000, n_features=20, n_informative=15, n_redundant=5)\n",
    "\n",
    "# summarize the dataset\n",
    "print(X.shape, y.shape)"
   ]
  },
  {
   "cell_type": "code",
   "execution_count": 2,
   "metadata": {},
   "outputs": [],
   "source": [
    "import numpy as np\n",
    "from sklearn.model_selection import cross_val_score\n",
    "from sklearn.model_selection import StratifiedKFold\n",
    "from sklearn.decomposition import TruncatedSVD\n",
    "from sklearn.linear_model import LogisticRegression"
   ]
  },
  {
   "cell_type": "code",
   "execution_count": 3,
   "metadata": {},
   "outputs": [
    {
     "data": {
      "text/plain": [
       "0.8219999999999998"
      ]
     },
     "execution_count": 3,
     "metadata": {},
     "output_type": "execute_result"
    }
   ],
   "source": [
    "lg = LogisticRegression()\n",
    "cv = StratifiedKFold()\n",
    "cross_val_score(lg, X, y, cv=cv).mean()"
   ]
  },
  {
   "cell_type": "code",
   "execution_count": 4,
   "metadata": {},
   "outputs": [
    {
     "data": {
      "text/plain": [
       "0.791"
      ]
     },
     "execution_count": 4,
     "metadata": {},
     "output_type": "execute_result"
    }
   ],
   "source": [
    "svd = TruncatedSVD(n_components=10)\n",
    "X_transformed = svd.fit_transform(X)\n",
    "cross_val_score(lg, X_transformed, y, cv=cv).mean()"
   ]
  },
  {
   "cell_type": "code",
   "execution_count": 5,
   "metadata": {},
   "outputs": [
    {
     "name": "stdout",
     "output_type": "stream",
     "text": [
      "2 0.667 0.04883217811584473\n",
      "3 0.661 0.04991412162780762\n",
      "4 0.7049999999999998 0.04068779945373535\n",
      "5 0.715 0.04024314880371094\n",
      "6 0.785 0.046468257904052734\n",
      "7 0.782 0.04285287857055664\n",
      "8 0.792 0.04342508316040039\n",
      "9 0.788 0.05166006088256836\n",
      "10 0.791 0.04688882827758789\n",
      "11 0.796 0.04762101173400879\n",
      "12 0.8039999999999999 0.07246017456054688\n",
      "13 0.8309999999999998 0.07865214347839355\n",
      "14 0.8240000000000001 0.0881810188293457\n",
      "15 0.8219999999999998 0.07520008087158203\n",
      "16 0.8219999999999998 0.09067797660827637\n",
      "17 0.8219999999999998 0.10315418243408203\n",
      "18 0.8219999999999998 0.08812284469604492\n",
      "19 0.8219999999999998 0.0912940502166748\n"
     ]
    }
   ],
   "source": [
    "import time\n",
    "for i in range(2, 20):\n",
    "    svd = TruncatedSVD(n_components=i)\n",
    "    X_transformed = svd.fit_transform(X)\n",
    "    start = time.time()\n",
    "    score = cross_val_score(lg, X_transformed, y, cv=cv).mean()\n",
    "    end = time.time()\n",
    "    print(i, score, end - start)"
   ]
  },
  {
   "cell_type": "code",
   "execution_count": null,
   "metadata": {},
   "outputs": [],
   "source": []
  }
 ],
 "metadata": {
  "kernelspec": {
   "display_name": "cmpinf2120",
   "language": "python",
   "name": "cmpinf2120"
  },
  "language_info": {
   "codemirror_mode": {
    "name": "ipython",
    "version": 3
   },
   "file_extension": ".py",
   "mimetype": "text/x-python",
   "name": "python",
   "nbconvert_exporter": "python",
   "pygments_lexer": "ipython3",
   "version": "3.9.1"
  }
 },
 "nbformat": 4,
 "nbformat_minor": 4
}

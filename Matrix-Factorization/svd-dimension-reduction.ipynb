{
 "cells": [
  {
   "cell_type": "markdown",
   "metadata": {},
   "source": [
    "This analysis is borrowed from Jason Brownlee https://machinelearningmastery.com/singular-value-decomposition-for-dimensionality-reduction-in-python/"
   ]
  },
  {
   "cell_type": "code",
   "execution_count": 38,
   "metadata": {},
   "outputs": [
    {
     "name": "stdout",
     "output_type": "stream",
     "text": [
      "(1000, 20) (1000,)\n"
     ]
    }
   ],
   "source": [
    "# test classification dataset\n",
    "from sklearn.datasets import make_classification\n",
    "\n",
    "# define dataset\n",
    "X, y = make_classification(n_samples=1000, n_features=20, n_informative=15, n_redundant=5)\n",
    "\n",
    "# summarize the dataset\n",
    "print(X.shape, y.shape)"
   ]
  },
  {
   "cell_type": "code",
   "execution_count": 39,
   "metadata": {},
   "outputs": [],
   "source": [
    "import numpy as np\n",
    "from sklearn.model_selection import cross_val_score\n",
    "from sklearn.model_selection import StratifiedKFold\n",
    "from sklearn.decomposition import TruncatedSVD\n",
    "from sklearn.linear_model import LogisticRegression"
   ]
  },
  {
   "cell_type": "code",
   "execution_count": 40,
   "metadata": {},
   "outputs": [
    {
     "data": {
      "text/plain": [
       "0.8380000000000001"
      ]
     },
     "execution_count": 40,
     "metadata": {},
     "output_type": "execute_result"
    }
   ],
   "source": [
    "lg = LogisticRegression()\n",
    "cv = StratifiedKFold()\n",
    "cross_val_score(lg, X, y, cv=cv).mean()"
   ]
  },
  {
   "cell_type": "code",
   "execution_count": 41,
   "metadata": {},
   "outputs": [
    {
     "data": {
      "text/plain": [
       "0.8049999999999999"
      ]
     },
     "execution_count": 41,
     "metadata": {},
     "output_type": "execute_result"
    }
   ],
   "source": [
    "svd = TruncatedSVD(n_components=10)\n",
    "X_transformed = svd.fit_transform(X)\n",
    "cross_val_score(lg, X_transformed, y, cv=cv).mean()"
   ]
  },
  {
   "cell_type": "code",
   "execution_count": 42,
   "metadata": {},
   "outputs": [
    {
     "name": "stdout",
     "output_type": "stream",
     "text": [
      "2 0.704 0.036025285720825195\n",
      "3 0.702 0.02855396270751953\n",
      "4 0.714 0.02801990509033203\n",
      "5 0.704 0.029519081115722656\n",
      "6 0.718 0.03151106834411621\n",
      "7 0.711 0.03391098976135254\n",
      "8 0.701 0.037293195724487305\n",
      "9 0.805 0.035707950592041016\n",
      "10 0.8049999999999999 0.037344932556152344\n",
      "11 0.8229999999999998 0.04289579391479492\n",
      "12 0.828 0.04047584533691406\n",
      "13 0.828 0.048274993896484375\n",
      "14 0.8310000000000001 0.04309988021850586\n",
      "15 0.8380000000000001 0.04528164863586426\n",
      "16 0.8380000000000001 0.046939849853515625\n",
      "17 0.8380000000000001 0.04483294486999512\n",
      "18 0.8380000000000001 0.05171489715576172\n",
      "19 0.8380000000000001 0.04444003105163574\n"
     ]
    }
   ],
   "source": [
    "import time\n",
    "for i in range(2, 20):\n",
    "    svd = TruncatedSVD(n_components=i)\n",
    "    X_transformed = svd.fit_transform(X)\n",
    "    start = time.time()\n",
    "    score = cross_val_score(lg, X_transformed, y, cv=cv).mean()\n",
    "    end = time.time()\n",
    "    print(i, score, end - start)"
   ]
  },
  {
   "cell_type": "code",
   "execution_count": null,
   "metadata": {},
   "outputs": [],
   "source": []
  }
 ],
 "metadata": {
  "kernelspec": {
   "display_name": "cmpinf2120",
   "language": "python",
   "name": "cmpinf2120"
  },
  "language_info": {
   "codemirror_mode": {
    "name": "ipython",
    "version": 3
   },
   "file_extension": ".py",
   "mimetype": "text/x-python",
   "name": "python",
   "nbconvert_exporter": "python",
   "pygments_lexer": "ipython3",
   "version": "3.9.1"
  }
 },
 "nbformat": 4,
 "nbformat_minor": 4
}

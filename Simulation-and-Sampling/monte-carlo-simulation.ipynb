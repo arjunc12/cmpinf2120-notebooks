{
 "cells": [
  {
   "cell_type": "code",
   "execution_count": 1,
   "metadata": {},
   "outputs": [],
   "source": [
    "import numpy as np"
   ]
  },
  {
   "cell_type": "code",
   "execution_count": 12,
   "metadata": {},
   "outputs": [],
   "source": [
    "simulations = 10000"
   ]
  },
  {
   "cell_type": "code",
   "execution_count": 13,
   "metadata": {},
   "outputs": [
    {
     "name": "stdout",
     "output_type": "stream",
     "text": [
      "0.3277\n"
     ]
    }
   ],
   "source": [
    "keepSuccesses = 0\n",
    "for i in range(simulations):\n",
    "    # pick a random door for the prize\n",
    "    prize = np.random.randint(0, 3)\n",
    "    # contestant picks a random door\n",
    "    guess = np.random.randint(0, 3)\n",
    "    \n",
    "    # Since we aren't switching, all that matters is if the original guess was correct\n",
    "    if guess == prize:\n",
    "        keepSuccesses += 1\n",
    "        \n",
    "print(keepSuccesses / simulations)"
   ]
  },
  {
   "cell_type": "code",
   "execution_count": 14,
   "metadata": {},
   "outputs": [
    {
     "name": "stdout",
     "output_type": "stream",
     "text": [
      "0.677\n"
     ]
    }
   ],
   "source": [
    "switchSuccesses = 0\n",
    "for i in range(simulations):\n",
    "    doors = set([0, 1, 2])\n",
    "    \n",
    "    # pick a random door for the prize\n",
    "    prize = np.random.randint(0, 3)\n",
    "    # contestant makes initial guess\n",
    "    guess = np.random.randint(0, 3)\n",
    "    \n",
    "    # we pick a door to reveal. We can't reveal the prize, or the door the contestant guessed\n",
    "    doors.discard(guess)\n",
    "    doors.discard(prize)\n",
    "    revealed_door = np.random.choice(list(doors))\n",
    "    \n",
    "    # Contestant will now switch.\n",
    "    available_doors = [0, 1, 2]\n",
    "    # can't \"switch\" to your orignal guess\n",
    "    available_doors.remove(guess)\n",
    "    # can't switch to the revealed door\n",
    "    available_doors.remove(revealed_door)\n",
    "    # there should be only one available door to switch to\n",
    "    assert len(available_doors) == 1\n",
    "    \n",
    "    # make the switch\n",
    "    guess = available_doors[0]\n",
    "    \n",
    "    # check if after switching we found the prize\n",
    "    if guess == prize:\n",
    "        switchSuccesses += 1\n",
    "        \n",
    "print(switchSuccesses / simulations)"
   ]
  },
  {
   "cell_type": "code",
   "execution_count": null,
   "metadata": {},
   "outputs": [],
   "source": []
  }
 ],
 "metadata": {
  "kernelspec": {
   "display_name": "cmpinf2120",
   "language": "python",
   "name": "cmpinf2120"
  },
  "language_info": {
   "codemirror_mode": {
    "name": "ipython",
    "version": 3
   },
   "file_extension": ".py",
   "mimetype": "text/x-python",
   "name": "python",
   "nbconvert_exporter": "python",
   "pygments_lexer": "ipython3",
   "version": "3.9.1"
  }
 },
 "nbformat": 4,
 "nbformat_minor": 4
}

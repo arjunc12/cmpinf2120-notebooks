{
 "cells": [
  {
   "cell_type": "markdown",
   "metadata": {},
   "source": [
    "- analysis borrowed from Deepika Singh https://www.pluralsight.com/guides/linear-lasso-ridge-regression-scikit-learn"
   ]
  },
  {
   "cell_type": "code",
   "execution_count": 57,
   "metadata": {},
   "outputs": [],
   "source": [
    "import pandas as pd\n",
    "import numpy as np\n",
    "from sklearn.model_selection import train_test_split\n",
    "from sklearn.linear_model import LinearRegression\n",
    "from sklearn.linear_model import Ridge, RidgeCV\n",
    "from sklearn.linear_model import Lasso, LassoCV\n",
    "from sklearn.linear_model import ElasticNet, ElasticNetCV"
   ]
  },
  {
   "cell_type": "code",
   "execution_count": 92,
   "metadata": {},
   "outputs": [
    {
     "name": "stdout",
     "output_type": "stream",
     "text": [
      "(574, 5)\n"
     ]
    },
    {
     "data": {
      "text/html": [
       "<div>\n",
       "<style scoped>\n",
       "    .dataframe tbody tr th:only-of-type {\n",
       "        vertical-align: middle;\n",
       "    }\n",
       "\n",
       "    .dataframe tbody tr th {\n",
       "        vertical-align: top;\n",
       "    }\n",
       "\n",
       "    .dataframe thead th {\n",
       "        text-align: right;\n",
       "    }\n",
       "</style>\n",
       "<table border=\"1\" class=\"dataframe\">\n",
       "  <thead>\n",
       "    <tr style=\"text-align: right;\">\n",
       "      <th></th>\n",
       "      <th>pce</th>\n",
       "      <th>pop</th>\n",
       "      <th>psavert</th>\n",
       "      <th>uempmed</th>\n",
       "      <th>unemploy</th>\n",
       "    </tr>\n",
       "  </thead>\n",
       "  <tbody>\n",
       "    <tr>\n",
       "      <td>count</td>\n",
       "      <td>574.000000</td>\n",
       "      <td>574.000000</td>\n",
       "      <td>574.000000</td>\n",
       "      <td>574.000000</td>\n",
       "      <td>574.000000</td>\n",
       "    </tr>\n",
       "    <tr>\n",
       "      <td>mean</td>\n",
       "      <td>4820.092683</td>\n",
       "      <td>257159.652662</td>\n",
       "      <td>8.567247</td>\n",
       "      <td>8.608711</td>\n",
       "      <td>7771.310105</td>\n",
       "    </tr>\n",
       "    <tr>\n",
       "      <td>std</td>\n",
       "      <td>3556.803613</td>\n",
       "      <td>36682.398508</td>\n",
       "      <td>2.964179</td>\n",
       "      <td>4.106645</td>\n",
       "      <td>2641.959180</td>\n",
       "    </tr>\n",
       "    <tr>\n",
       "      <td>min</td>\n",
       "      <td>506.700000</td>\n",
       "      <td>198712.000000</td>\n",
       "      <td>2.200000</td>\n",
       "      <td>4.000000</td>\n",
       "      <td>2685.000000</td>\n",
       "    </tr>\n",
       "    <tr>\n",
       "      <td>25%</td>\n",
       "      <td>1578.300000</td>\n",
       "      <td>224896.000000</td>\n",
       "      <td>6.400000</td>\n",
       "      <td>6.000000</td>\n",
       "      <td>6284.000000</td>\n",
       "    </tr>\n",
       "    <tr>\n",
       "      <td>50%</td>\n",
       "      <td>3936.850000</td>\n",
       "      <td>253060.000000</td>\n",
       "      <td>8.400000</td>\n",
       "      <td>7.500000</td>\n",
       "      <td>7494.000000</td>\n",
       "    </tr>\n",
       "    <tr>\n",
       "      <td>75%</td>\n",
       "      <td>7626.325000</td>\n",
       "      <td>290290.750000</td>\n",
       "      <td>11.100000</td>\n",
       "      <td>9.100000</td>\n",
       "      <td>8685.500000</td>\n",
       "    </tr>\n",
       "    <tr>\n",
       "      <td>max</td>\n",
       "      <td>12193.800000</td>\n",
       "      <td>320402.295000</td>\n",
       "      <td>17.300000</td>\n",
       "      <td>25.200000</td>\n",
       "      <td>15352.000000</td>\n",
       "    </tr>\n",
       "  </tbody>\n",
       "</table>\n",
       "</div>"
      ],
      "text/plain": [
       "                pce            pop     psavert     uempmed      unemploy\n",
       "count    574.000000     574.000000  574.000000  574.000000    574.000000\n",
       "mean    4820.092683  257159.652662    8.567247    8.608711   7771.310105\n",
       "std     3556.803613   36682.398508    2.964179    4.106645   2641.959180\n",
       "min      506.700000  198712.000000    2.200000    4.000000   2685.000000\n",
       "25%     1578.300000  224896.000000    6.400000    6.000000   6284.000000\n",
       "50%     3936.850000  253060.000000    8.400000    7.500000   7494.000000\n",
       "75%     7626.325000  290290.750000   11.100000    9.100000   8685.500000\n",
       "max    12193.800000  320402.295000   17.300000   25.200000  15352.000000"
      ]
     },
     "execution_count": 92,
     "metadata": {},
     "output_type": "execute_result"
    }
   ],
   "source": [
    "df = pd.read_csv('unemployment.csv')\n",
    "df.drop('date', axis=1, inplace=True)\n",
    "print(df.shape)\n",
    "df.describe()"
   ]
  },
  {
   "cell_type": "code",
   "execution_count": 93,
   "metadata": {},
   "outputs": [],
   "source": [
    "X = df.drop('unemploy', axis=1)\n",
    "Y = df['unemploy']"
   ]
  },
  {
   "cell_type": "code",
   "execution_count": 94,
   "metadata": {},
   "outputs": [],
   "source": [
    "X_train, X_test, Y_train, Y_test = train_test_split(X, Y)"
   ]
  },
  {
   "cell_type": "code",
   "execution_count": 95,
   "metadata": {},
   "outputs": [
    {
     "name": "stdout",
     "output_type": "stream",
     "text": [
      "coefficients [-1.52637088e+00  1.60542895e-01  2.02824576e+02  5.70150439e+02]\n",
      "sum of coefficients 771.6091873566717\n",
      "r^2 0.8907858555315742\n"
     ]
    }
   ],
   "source": [
    "lr = LinearRegression()\n",
    "lr.fit(X_train, Y_train)\n",
    "print(\"coefficients\", lr.coef_)\n",
    "print(\"sum of coefficients\", sum(lr.coef_))\n",
    "print(\"r^2\", lr.score(X_test, Y_test))"
   ]
  },
  {
   "cell_type": "code",
   "execution_count": 97,
   "metadata": {},
   "outputs": [
    {
     "name": "stdout",
     "output_type": "stream",
     "text": [
      "coefficients [-1.52603150e+00  1.60524199e-01  2.02821170e+02  5.69958815e+02]\n",
      "sum of coefficients 771.4144782254622\n",
      "r^2 0.8907834174407459\n"
     ]
    }
   ],
   "source": [
    "rr = Ridge()\n",
    "rr.fit(X_train, Y_train) \n",
    "print(\"coefficients\", rr.coef_)\n",
    "print(\"sum of coefficients\", sum(rr.coef_))\n",
    "print(\"r^2\", rr.score(X_test, Y_test))"
   ]
  },
  {
   "cell_type": "code",
   "execution_count": 98,
   "metadata": {},
   "outputs": [
    {
     "name": "stdout",
     "output_type": "stream",
     "text": [
      "coefficients [-1.52298309e+00  1.60355464e-01  2.02781582e+02  5.68243149e+02]\n",
      "sum of coefficients 769.6621034894019\n",
      "r^2 0.8907581382398091\n"
     ]
    }
   ],
   "source": [
    "rr = RidgeCV()\n",
    "rr.fit(X_train, Y_train) \n",
    "print(\"coefficients\", rr.coef_)\n",
    "print(\"sum of coefficients\", sum(rr.coef_))\n",
    "print(\"r^2\", rr.score(X_test, Y_test))"
   ]
  },
  {
   "cell_type": "code",
   "execution_count": 99,
   "metadata": {},
   "outputs": [
    {
     "data": {
      "text/plain": [
       "10.0"
      ]
     },
     "execution_count": 99,
     "metadata": {},
     "output_type": "execute_result"
    }
   ],
   "source": [
    "rr.alpha_"
   ]
  },
  {
   "cell_type": "code",
   "execution_count": 100,
   "metadata": {},
   "outputs": [
    {
     "name": "stdout",
     "output_type": "stream",
     "text": [
      "coefficients [-1.52590667e+00  1.60468039e-01  2.02383048e+02  5.70160142e+02]\n",
      "sum of coefficients 771.1777507170959\n",
      "r^2 0.8907981912865006\n"
     ]
    }
   ],
   "source": [
    "lasso = Lasso()\n",
    "lasso.fit(X_train, Y_train) \n",
    "print(\"coefficients\", lasso.coef_)\n",
    "print(\"sum of coefficients\", sum(lasso.coef_))\n",
    "print(\"r^2\", lasso.score(X_test, Y_test))"
   ]
  },
  {
   "cell_type": "code",
   "execution_count": 103,
   "metadata": {},
   "outputs": [
    {
     "name": "stdout",
     "output_type": "stream",
     "text": [
      "coefficients [-1.52172900e+00  1.59794358e-01  1.98409316e+02  5.70247472e+02]\n",
      "sum of coefficients 767.2948533137192\n",
      "r^2 0.8909051420858419\n",
      "10.0\n"
     ]
    },
    {
     "name": "stderr",
     "output_type": "stream",
     "text": [
      "/Users/arjunchandrasekhar/opt/anaconda3/lib/python3.7/site-packages/sklearn/model_selection/_split.py:1978: FutureWarning: The default value of cv will change from 3 to 5 in version 0.22. Specify it explicitly to silence this warning.\n",
      "  warnings.warn(CV_WARNING, FutureWarning)\n"
     ]
    }
   ],
   "source": [
    "lasso = LassoCV(alphas=(0.1, 1, 10))\n",
    "lasso.fit(X_train, Y_train) \n",
    "print(\"coefficients\", lasso.coef_)\n",
    "print(\"sum of coefficients\", sum(lasso.coef_))\n",
    "print(\"r^2\", lasso.score(X_test, Y_test))\n",
    "print(lasso.alpha_)"
   ]
  },
  {
   "cell_type": "code",
   "execution_count": 104,
   "metadata": {},
   "outputs": [
    {
     "name": "stdout",
     "output_type": "stream",
     "text": [
      "coefficients [-1.45647738e+00  1.56316894e-01  1.98785744e+02  5.32749084e+02]\n",
      "sum of coefficients 730.2346668388454\n",
      "r^2 0.8886879596273817\n"
     ]
    }
   ],
   "source": [
    "enet = ElasticNet(max_iter=10000)\n",
    "enet.fit(X_train, Y_train)\n",
    "print(\"coefficients\", enet.coef_)\n",
    "print(\"sum of coefficients\", sum(enet.coef_))\n",
    "print(\"r^2\", enet.score(X_test, Y_test))"
   ]
  },
  {
   "cell_type": "code",
   "execution_count": 106,
   "metadata": {},
   "outputs": [
    {
     "name": "stdout",
     "output_type": "stream",
     "text": [
      "coefficients [-1.51908101e+00  1.60134067e-01  2.02687277e+02  5.66074050e+02]\n",
      "sum of coefficients 767.4023798038609\n",
      "r^2 0.8907170287723324\n",
      "0.1\n"
     ]
    },
    {
     "name": "stderr",
     "output_type": "stream",
     "text": [
      "/Users/arjunchandrasekhar/opt/anaconda3/lib/python3.7/site-packages/sklearn/model_selection/_split.py:1978: FutureWarning: The default value of cv will change from 3 to 5 in version 0.22. Specify it explicitly to silence this warning.\n",
      "  warnings.warn(CV_WARNING, FutureWarning)\n"
     ]
    }
   ],
   "source": [
    "enet = ElasticNetCV(alphas=(0.1, 1, 10))\n",
    "enet.fit(X_train, Y_train)\n",
    "print(\"coefficients\", enet.coef_)\n",
    "print(\"sum of coefficients\", sum(enet.coef_))\n",
    "print(\"r^2\", enet.score(X_test, Y_test))\n",
    "print(enet.alpha_)"
   ]
  },
  {
   "cell_type": "code",
   "execution_count": 107,
   "metadata": {},
   "outputs": [
    {
     "name": "stdout",
     "output_type": "stream",
     "text": [
      "best alpha 0.01\n",
      "coefficients [-1.52563907e+00  1.60502305e-01  2.02814804e+02  5.69738741e+02]\n",
      "sum of coefficients 771.1884085785182\n",
      "r^2 0.8907805784867255\n"
     ]
    }
   ],
   "source": [
    "best_model = None\n",
    "best_score = 0\n",
    "best_alpha = None\n",
    "for alpha in np.arange(0.01, 10, 0.01):\n",
    "    enet = ElasticNet(alpha=alpha, max_iter=100000)\n",
    "    enet.fit(X_train, Y_train)\n",
    "    score = enet.score(X_test, Y_test)\n",
    "    if score > best_score:\n",
    "        best_model = enet\n",
    "        best_score = score\n",
    "        best_alpha = alpha\n",
    "        \n",
    "print(\"best alpha\", best_alpha)\n",
    "print(\"coefficients\", best_model.coef_)\n",
    "print(\"sum of coefficients\", sum(best_model.coef_))\n",
    "print(\"r^2\", best_model.score(X_test, Y_test))"
   ]
  },
  {
   "cell_type": "code",
   "execution_count": null,
   "metadata": {},
   "outputs": [],
   "source": []
  }
 ],
 "metadata": {
  "kernelspec": {
   "display_name": "Python 3",
   "language": "python",
   "name": "python3"
  },
  "language_info": {
   "codemirror_mode": {
    "name": "ipython",
    "version": 3
   },
   "file_extension": ".py",
   "mimetype": "text/x-python",
   "name": "python",
   "nbconvert_exporter": "python",
   "pygments_lexer": "ipython3",
   "version": "3.7.4"
  }
 },
 "nbformat": 4,
 "nbformat_minor": 5
}

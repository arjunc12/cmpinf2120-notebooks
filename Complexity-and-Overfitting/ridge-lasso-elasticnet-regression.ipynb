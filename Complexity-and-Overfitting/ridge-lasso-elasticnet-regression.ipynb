{
 "cells": [
  {
   "cell_type": "markdown",
   "metadata": {},
   "source": [
    "- analysis borrowed from Deepika Singh https://www.pluralsight.com/guides/linear-lasso-ridge-regression-scikit-learn"
   ]
  },
  {
   "cell_type": "code",
   "execution_count": 1,
   "metadata": {},
   "outputs": [],
   "source": [
    "import pandas as pd\n",
    "import numpy as np\n",
    "from sklearn.model_selection import train_test_split\n",
    "from sklearn.linear_model import LinearRegression\n",
    "from sklearn.linear_model import Ridge, RidgeCV\n",
    "from sklearn.linear_model import Lasso, LassoCV\n",
    "from sklearn.linear_model import ElasticNet, ElasticNetCV\n",
    "from sklearn.preprocessing import StandardScaler"
   ]
  },
  {
   "cell_type": "code",
   "execution_count": 2,
   "metadata": {},
   "outputs": [
    {
     "name": "stdout",
     "output_type": "stream",
     "text": [
      "(574, 5)\n"
     ]
    },
    {
     "data": {
      "text/html": [
       "<div>\n",
       "<style scoped>\n",
       "    .dataframe tbody tr th:only-of-type {\n",
       "        vertical-align: middle;\n",
       "    }\n",
       "\n",
       "    .dataframe tbody tr th {\n",
       "        vertical-align: top;\n",
       "    }\n",
       "\n",
       "    .dataframe thead th {\n",
       "        text-align: right;\n",
       "    }\n",
       "</style>\n",
       "<table border=\"1\" class=\"dataframe\">\n",
       "  <thead>\n",
       "    <tr style=\"text-align: right;\">\n",
       "      <th></th>\n",
       "      <th>pce</th>\n",
       "      <th>pop</th>\n",
       "      <th>psavert</th>\n",
       "      <th>uempmed</th>\n",
       "      <th>unemploy</th>\n",
       "    </tr>\n",
       "  </thead>\n",
       "  <tbody>\n",
       "    <tr>\n",
       "      <td>count</td>\n",
       "      <td>574.000000</td>\n",
       "      <td>574.000000</td>\n",
       "      <td>574.000000</td>\n",
       "      <td>574.000000</td>\n",
       "      <td>574.000000</td>\n",
       "    </tr>\n",
       "    <tr>\n",
       "      <td>mean</td>\n",
       "      <td>4820.092683</td>\n",
       "      <td>257159.652662</td>\n",
       "      <td>8.567247</td>\n",
       "      <td>8.608711</td>\n",
       "      <td>7771.310105</td>\n",
       "    </tr>\n",
       "    <tr>\n",
       "      <td>std</td>\n",
       "      <td>3556.803613</td>\n",
       "      <td>36682.398508</td>\n",
       "      <td>2.964179</td>\n",
       "      <td>4.106645</td>\n",
       "      <td>2641.959180</td>\n",
       "    </tr>\n",
       "    <tr>\n",
       "      <td>min</td>\n",
       "      <td>506.700000</td>\n",
       "      <td>198712.000000</td>\n",
       "      <td>2.200000</td>\n",
       "      <td>4.000000</td>\n",
       "      <td>2685.000000</td>\n",
       "    </tr>\n",
       "    <tr>\n",
       "      <td>25%</td>\n",
       "      <td>1578.300000</td>\n",
       "      <td>224896.000000</td>\n",
       "      <td>6.400000</td>\n",
       "      <td>6.000000</td>\n",
       "      <td>6284.000000</td>\n",
       "    </tr>\n",
       "    <tr>\n",
       "      <td>50%</td>\n",
       "      <td>3936.850000</td>\n",
       "      <td>253060.000000</td>\n",
       "      <td>8.400000</td>\n",
       "      <td>7.500000</td>\n",
       "      <td>7494.000000</td>\n",
       "    </tr>\n",
       "    <tr>\n",
       "      <td>75%</td>\n",
       "      <td>7626.325000</td>\n",
       "      <td>290290.750000</td>\n",
       "      <td>11.100000</td>\n",
       "      <td>9.100000</td>\n",
       "      <td>8685.500000</td>\n",
       "    </tr>\n",
       "    <tr>\n",
       "      <td>max</td>\n",
       "      <td>12193.800000</td>\n",
       "      <td>320402.295000</td>\n",
       "      <td>17.300000</td>\n",
       "      <td>25.200000</td>\n",
       "      <td>15352.000000</td>\n",
       "    </tr>\n",
       "  </tbody>\n",
       "</table>\n",
       "</div>"
      ],
      "text/plain": [
       "                pce            pop     psavert     uempmed      unemploy\n",
       "count    574.000000     574.000000  574.000000  574.000000    574.000000\n",
       "mean    4820.092683  257159.652662    8.567247    8.608711   7771.310105\n",
       "std     3556.803613   36682.398508    2.964179    4.106645   2641.959180\n",
       "min      506.700000  198712.000000    2.200000    4.000000   2685.000000\n",
       "25%     1578.300000  224896.000000    6.400000    6.000000   6284.000000\n",
       "50%     3936.850000  253060.000000    8.400000    7.500000   7494.000000\n",
       "75%     7626.325000  290290.750000   11.100000    9.100000   8685.500000\n",
       "max    12193.800000  320402.295000   17.300000   25.200000  15352.000000"
      ]
     },
     "execution_count": 2,
     "metadata": {},
     "output_type": "execute_result"
    }
   ],
   "source": [
    "df = pd.read_csv('unemployment.csv')\n",
    "df.drop('date', axis=1, inplace=True)\n",
    "print(df.shape)\n",
    "df.describe()"
   ]
  },
  {
   "cell_type": "code",
   "execution_count": 3,
   "metadata": {},
   "outputs": [],
   "source": [
    "X = df.drop('unemploy', axis=1).values\n",
    "Y = df['unemploy'].values.reshape(-1, 1)"
   ]
  },
  {
   "cell_type": "code",
   "execution_count": 4,
   "metadata": {},
   "outputs": [
    {
     "data": {
      "text/plain": [
       "(574, 4)"
      ]
     },
     "execution_count": 4,
     "metadata": {},
     "output_type": "execute_result"
    }
   ],
   "source": [
    "X.shape"
   ]
  },
  {
   "cell_type": "code",
   "execution_count": 59,
   "metadata": {},
   "outputs": [
    {
     "data": {
      "text/plain": [
       "(574, 1)"
      ]
     },
     "execution_count": 59,
     "metadata": {},
     "output_type": "execute_result"
    }
   ],
   "source": [
    "Y.shape"
   ]
  },
  {
   "cell_type": "code",
   "execution_count": 29,
   "metadata": {},
   "outputs": [],
   "source": [
    "scaler = StandardScaler()\n",
    "X_scaled = scaler.fit_transform(X)"
   ]
  },
  {
   "cell_type": "code",
   "execution_count": 30,
   "metadata": {},
   "outputs": [],
   "source": [
    "X_train, X_test, Y_train, Y_test = train_test_split(X, Y)"
   ]
  },
  {
   "cell_type": "code",
   "execution_count": 49,
   "metadata": {},
   "outputs": [
    {
     "name": "stdout",
     "output_type": "stream",
     "text": [
      "coefficients [[-1.62932100e+00  1.70513648e-01  1.87386301e+02  5.68841866e+02]]\n",
      "sum of coefficients 754.7693594720749\n",
      "r^2 0.8200050811787633\n"
     ]
    }
   ],
   "source": [
    "lr = LinearRegression()\n",
    "lr.fit(X_train, Y_train)\n",
    "print(\"coefficients\", lr.coef_)\n",
    "print(\"sum of coefficients\", sum(lr.coef_[0]))\n",
    "print(\"r^2\", lr.score(X_test, Y_test))"
   ]
  },
  {
   "cell_type": "code",
   "execution_count": 48,
   "metadata": {},
   "outputs": [],
   "source": [
    "X_train_scaled, X_test_scaled, Y_train_scaled, Y_test_scaled = train_test_split(X_scaled, Y_scaled)"
   ]
  },
  {
   "cell_type": "code",
   "execution_count": 33,
   "metadata": {},
   "outputs": [
    {
     "name": "stdout",
     "output_type": "stream",
     "text": [
      "coefficients [[-1.62932100e+00  1.70513648e-01  1.87386301e+02  5.68841866e+02]]\n",
      "sum of coefficients [-1.62932100e+00  1.70513648e-01  1.87386301e+02  5.68841866e+02]\n",
      "r^2 0.8200050811787633\n"
     ]
    }
   ],
   "source": [
    "lr_scaled = LinearRegression()\n",
    "lr_scaled.fit(X_train, Y_train)\n",
    "print(\"coefficients\", lr_scaled.coef_)\n",
    "print(\"sum of coefficients\", sum(lr_scaled.coef_[0]))\n",
    "print(\"r^2\", lr_scaled.score(X_test, Y_test))"
   ]
  },
  {
   "cell_type": "code",
   "execution_count": 60,
   "metadata": {},
   "outputs": [
    {
     "name": "stdout",
     "output_type": "stream",
     "text": [
      "coefficients [[-1.72498085  1.85242135  0.14671624  0.88442994]]\n",
      "sum of coefficients 1.158586693546428\n",
      "r^2 0.8364473662444374\n"
     ]
    }
   ],
   "source": [
    "rr = Ridge()\n",
    "rr.fit(X_train_scaled, Y_train_scaled) \n",
    "print(\"coefficients\", rr.coef_)\n",
    "print(\"sum of coefficients\", sum(rr.coef_[0]))\n",
    "print(\"r^2\", rr.score(X_test_scaled, Y_test_scaled))"
   ]
  },
  {
   "cell_type": "code",
   "execution_count": 61,
   "metadata": {},
   "outputs": [
    {
     "name": "stdout",
     "output_type": "stream",
     "text": [
      "coefficients [[-2.07825003  2.23944363  0.19273588  0.88887506]]\n",
      "sum of coefficients 1.242804543820299\n",
      "r^2 0.8412586076723398\n"
     ]
    }
   ],
   "source": [
    "rr = RidgeCV()\n",
    "rr.fit(X_train_scaled, Y_train_scaled) \n",
    "print(\"coefficients\", rr.coef_)\n",
    "print(\"sum of coefficients\", sum(rr.coef_[0]))\n",
    "print(\"r^2\", rr.score(X_test_scaled, Y_test_scaled))"
   ]
  },
  {
   "cell_type": "code",
   "execution_count": 62,
   "metadata": {},
   "outputs": [
    {
     "data": {
      "text/plain": [
       "0.1"
      ]
     },
     "execution_count": 62,
     "metadata": {},
     "output_type": "execute_result"
    }
   ],
   "source": [
    "rr.alpha_"
   ]
  },
  {
   "cell_type": "code",
   "execution_count": 63,
   "metadata": {},
   "outputs": [
    {
     "name": "stdout",
     "output_type": "stream",
     "text": [
      "coefficients [ 0.  0. -0.  0.]\n",
      "sum of coefficients 0.0\n",
      "r^2 -0.0046029209699520734\n"
     ]
    }
   ],
   "source": [
    "lasso = Lasso()\n",
    "lasso.fit(X_train_scaled, Y_train_scaled) \n",
    "print(\"coefficients\", lasso.coef_)\n",
    "print(\"sum of coefficients\", sum(lasso.coef_))\n",
    "print(\"r^2\", lasso.score(X_test_scaled, Y_test_scaled))"
   ]
  },
  {
   "cell_type": "code",
   "execution_count": 64,
   "metadata": {},
   "outputs": [
    {
     "name": "stdout",
     "output_type": "stream",
     "text": [
      "coefficients [ 0.          0.02632588 -0.          0.75595152]\n",
      "sum of coefficients 0.7822773915857435\n",
      "r^2 0.7264019145089883\n",
      "0.1\n"
     ]
    },
    {
     "name": "stderr",
     "output_type": "stream",
     "text": [
      "/Users/arjunchandrasekhar/opt/anaconda3/lib/python3.7/site-packages/sklearn/linear_model/coordinate_descent.py:1100: DataConversionWarning: A column-vector y was passed when a 1d array was expected. Please change the shape of y to (n_samples, ), for example using ravel().\n",
      "  y = column_or_1d(y, warn=True)\n",
      "/Users/arjunchandrasekhar/opt/anaconda3/lib/python3.7/site-packages/sklearn/model_selection/_split.py:1978: FutureWarning: The default value of cv will change from 3 to 5 in version 0.22. Specify it explicitly to silence this warning.\n",
      "  warnings.warn(CV_WARNING, FutureWarning)\n"
     ]
    }
   ],
   "source": [
    "lasso = LassoCV(alphas=(0.1, 1, 10))\n",
    "lasso.fit(X_train_scaled, Y_train_scaled) \n",
    "print(\"coefficients\", lasso.coef_)\n",
    "print(\"sum of coefficients\", sum(lasso.coef_))\n",
    "print(\"r^2\", lasso.score(X_test_scaled, Y_test_scaled))\n",
    "print(lasso.alpha_)"
   ]
  },
  {
   "cell_type": "code",
   "execution_count": 65,
   "metadata": {},
   "outputs": [
    {
     "name": "stdout",
     "output_type": "stream",
     "text": [
      "coefficients [ 0.          0.         -0.          0.25600765]\n",
      "sum of coefficients 0.2560076537430048\n",
      "r^2 0.3707873531045631\n"
     ]
    }
   ],
   "source": [
    "enet = ElasticNet(max_iter=10000)\n",
    "enet.fit(X_train_scaled, Y_train_scaled)\n",
    "print(\"coefficients\", enet.coef_)\n",
    "print(\"sum of coefficients\", sum(enet.coef_))\n",
    "print(\"r^2\", enet.score(X_test_scaled, Y_test_scaled))"
   ]
  },
  {
   "cell_type": "code",
   "execution_count": 66,
   "metadata": {},
   "outputs": [
    {
     "name": "stdout",
     "output_type": "stream",
     "text": [
      "coefficients [ 0.          0.0947263  -0.          0.72092967]\n",
      "sum of coefficients 0.8156559739627128\n",
      "r^2 0.7218191225676411\n",
      "0.1\n"
     ]
    },
    {
     "name": "stderr",
     "output_type": "stream",
     "text": [
      "/Users/arjunchandrasekhar/opt/anaconda3/lib/python3.7/site-packages/sklearn/linear_model/coordinate_descent.py:1100: DataConversionWarning: A column-vector y was passed when a 1d array was expected. Please change the shape of y to (n_samples, ), for example using ravel().\n",
      "  y = column_or_1d(y, warn=True)\n",
      "/Users/arjunchandrasekhar/opt/anaconda3/lib/python3.7/site-packages/sklearn/model_selection/_split.py:1978: FutureWarning: The default value of cv will change from 3 to 5 in version 0.22. Specify it explicitly to silence this warning.\n",
      "  warnings.warn(CV_WARNING, FutureWarning)\n"
     ]
    }
   ],
   "source": [
    "enet = ElasticNetCV(alphas=(0.1, 1, 10))\n",
    "enet.fit(X_train_scaled, Y_train_scaled)\n",
    "print(\"coefficients\", enet.coef_)\n",
    "print(\"sum of coefficients\", sum(enet.coef_))\n",
    "print(\"r^2\", enet.score(X_test_scaled, Y_test_scaled))\n",
    "print(enet.alpha_)"
   ]
  },
  {
   "cell_type": "code",
   "execution_count": 68,
   "metadata": {},
   "outputs": [
    {
     "name": "stdout",
     "output_type": "stream",
     "text": [
      "best alpha 0.01\n",
      "coefficients [-1.08111819  1.1419931   0.05297741  0.87277679]\n",
      "sum of coefficients 0.9866291097627051\n",
      "r^2 0.8121010339358256\n"
     ]
    }
   ],
   "source": [
    "best_model = None\n",
    "best_score = 0\n",
    "best_alpha = None\n",
    "for alpha in np.arange(0.01, 10, 0.01):\n",
    "    enet = ElasticNet(alpha=alpha, max_iter=100000)\n",
    "    enet.fit(X_train_scaled, Y_train_scaled)\n",
    "    score = enet.score(X_test_scaled, Y_test_scaled)\n",
    "    if score > best_score:\n",
    "        best_model = enet\n",
    "        best_score = score\n",
    "        best_alpha = alpha\n",
    "        \n",
    "print(\"best alpha\", best_alpha)\n",
    "print(\"coefficients\", best_model.coef_)\n",
    "print(\"sum of coefficients\", sum(best_model.coef_))\n",
    "print(\"r^2\", best_model.score(X_test_scaled, Y_test_scaled))"
   ]
  },
  {
   "cell_type": "code",
   "execution_count": null,
   "metadata": {},
   "outputs": [],
   "source": []
  }
 ],
 "metadata": {
  "kernelspec": {
   "display_name": "Python 3",
   "language": "python",
   "name": "python3"
  },
  "language_info": {
   "codemirror_mode": {
    "name": "ipython",
    "version": 3
   },
   "file_extension": ".py",
   "mimetype": "text/x-python",
   "name": "python",
   "nbconvert_exporter": "python",
   "pygments_lexer": "ipython3",
   "version": "3.7.4"
  }
 },
 "nbformat": 4,
 "nbformat_minor": 5
}

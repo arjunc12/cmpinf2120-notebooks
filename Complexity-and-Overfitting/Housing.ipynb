{
 "cells": [
  {
   "cell_type": "markdown",
   "metadata": {},
   "source": [
    "This example is borrowed from here https://www.geeksforgeeks.org/implementation-of-lasso-ridge-and-elastic-net/"
   ]
  },
  {
   "cell_type": "code",
   "execution_count": 89,
   "metadata": {},
   "outputs": [],
   "source": [
    "import numpy as np\n",
    "import pandas as pd\n",
    "import seaborn as sns\n",
    "sns.set()\n",
    "import pylab\n",
    "from sklearn import datasets\n",
    "from sklearn.model_selection import train_test_split\n",
    "from sklearn.preprocessing import StandardScaler \n",
    "from sklearn.model_selection import train_test_split\n",
    "from sklearn.linear_model import LinearRegression, Ridge, RidgeCV, Lasso, LassoCV, ElasticNet, ElasticNetCV\n",
    "%matplotlib inline"
   ]
  },
  {
   "cell_type": "code",
   "execution_count": 5,
   "metadata": {},
   "outputs": [
    {
     "name": "stdout",
     "output_type": "stream",
     "text": [
      ".. _boston_dataset:\n",
      "\n",
      "Boston house prices dataset\n",
      "---------------------------\n",
      "\n",
      "**Data Set Characteristics:**  \n",
      "\n",
      "    :Number of Instances: 506 \n",
      "\n",
      "    :Number of Attributes: 13 numeric/categorical predictive. Median Value (attribute 14) is usually the target.\n",
      "\n",
      "    :Attribute Information (in order):\n",
      "        - CRIM     per capita crime rate by town\n",
      "        - ZN       proportion of residential land zoned for lots over 25,000 sq.ft.\n",
      "        - INDUS    proportion of non-retail business acres per town\n",
      "        - CHAS     Charles River dummy variable (= 1 if tract bounds river; 0 otherwise)\n",
      "        - NOX      nitric oxides concentration (parts per 10 million)\n",
      "        - RM       average number of rooms per dwelling\n",
      "        - AGE      proportion of owner-occupied units built prior to 1940\n",
      "        - DIS      weighted distances to five Boston employment centres\n",
      "        - RAD      index of accessibility to radial highways\n",
      "        - TAX      full-value property-tax rate per $10,000\n",
      "        - PTRATIO  pupil-teacher ratio by town\n",
      "        - B        1000(Bk - 0.63)^2 where Bk is the proportion of blacks by town\n",
      "        - LSTAT    % lower status of the population\n",
      "        - MEDV     Median value of owner-occupied homes in $1000's\n",
      "\n",
      "    :Missing Attribute Values: None\n",
      "\n",
      "    :Creator: Harrison, D. and Rubinfeld, D.L.\n",
      "\n",
      "This is a copy of UCI ML housing dataset.\n",
      "https://archive.ics.uci.edu/ml/machine-learning-databases/housing/\n",
      "\n",
      "\n",
      "This dataset was taken from the StatLib library which is maintained at Carnegie Mellon University.\n",
      "\n",
      "The Boston house-price data of Harrison, D. and Rubinfeld, D.L. 'Hedonic\n",
      "prices and the demand for clean air', J. Environ. Economics & Management,\n",
      "vol.5, 81-102, 1978.   Used in Belsley, Kuh & Welsch, 'Regression diagnostics\n",
      "...', Wiley, 1980.   N.B. Various transformations are used in the table on\n",
      "pages 244-261 of the latter.\n",
      "\n",
      "The Boston house-price data has been used in many machine learning papers that address regression\n",
      "problems.   \n",
      "     \n",
      ".. topic:: References\n",
      "\n",
      "   - Belsley, Kuh & Welsch, 'Regression diagnostics: Identifying Influential Data and Sources of Collinearity', Wiley, 1980. 244-261.\n",
      "   - Quinlan,R. (1993). Combining Instance-Based and Model-Based Learning. In Proceedings on the Tenth International Conference of Machine Learning, 236-243, University of Massachusetts, Amherst. Morgan Kaufmann.\n",
      "\n"
     ]
    }
   ],
   "source": [
    "boston_dataset = datasets.load_boston()\n",
    "print(boston_dataset.DESCR)"
   ]
  },
  {
   "cell_type": "code",
   "execution_count": 64,
   "metadata": {},
   "outputs": [],
   "source": [
    "X = boston_dataset.data"
   ]
  },
  {
   "cell_type": "code",
   "execution_count": 65,
   "metadata": {},
   "outputs": [],
   "source": [
    "Y = boston_dataset.target.reshape(-1, 1)"
   ]
  },
  {
   "cell_type": "code",
   "execution_count": 66,
   "metadata": {},
   "outputs": [],
   "source": [
    "X_train, X_test, Y_train, Y_test = train_test_split(X, Y)"
   ]
  },
  {
   "cell_type": "code",
   "execution_count": 67,
   "metadata": {},
   "outputs": [],
   "source": [
    "scaler_X = StandardScaler()\n",
    "X_scaled = scaler_X.fit_transform(X)"
   ]
  },
  {
   "cell_type": "code",
   "execution_count": 68,
   "metadata": {},
   "outputs": [],
   "source": [
    "scaler_Y = StandardScaler()\n",
    "Y_scaled = scaler_Y.fit_transform(Y)"
   ]
  },
  {
   "cell_type": "code",
   "execution_count": 100,
   "metadata": {},
   "outputs": [],
   "source": [
    "X_train_scaled, X_test_scaled, Y_train_scaled, Y_test_scaled = train_test_split(X_scaled, Y_scaled)"
   ]
  },
  {
   "cell_type": "code",
   "execution_count": 101,
   "metadata": {},
   "outputs": [
    {
     "name": "stdout",
     "output_type": "stream",
     "text": [
      "R-squared:  0.6766849711050935\n"
     ]
    }
   ],
   "source": [
    "lreg = LinearRegression()\n",
    "lreg.fit(X_train_scaled, Y_train_scaled)\n",
    " \n",
    "print(\"R-squared: \", lreg.score(X_test_scaled, Y_test_scaled))\n",
    " \n",
    "# Putting together the coefficient and their corresponding variable names\n",
    "lreg_coefficient = pd.DataFrame()\n",
    "lreg_coefficient[\"Feature\"] = boston_dataset.feature_names\n",
    "lreg_coefficient['Coefficient Estimate'] = pd.Series(lreg.coef_[0])"
   ]
  },
  {
   "cell_type": "code",
   "execution_count": 124,
   "metadata": {},
   "outputs": [
    {
     "data": {
      "text/plain": [
       "(-1.0, 1.0)"
      ]
     },
     "execution_count": 124,
     "metadata": {},
     "output_type": "execute_result"
    },
    {
     "data": {
      "image/png": "[encoded data removed]",
      "text/plain": [
       "<Figure size 432x288 with 1 Axes>"
      ]
     },
     "metadata": {
      "needs_background": "light"
     },
     "output_type": "display_data"
    }
   ],
   "source": [
    "sns.barplot(x='Feature', y='Coefficient Estimate', data=lreg_coefficient)\n",
    "pylab.ylim(-1, 1)"
   ]
  },
  {
   "cell_type": "code",
   "execution_count": 127,
   "metadata": {},
   "outputs": [
    {
     "name": "stdout",
     "output_type": "stream",
     "text": [
      "coefficients [[-0.1064502   0.10163136  0.02805369  0.0624282  -0.20850626  0.25229291\n",
      "   0.01806763 -0.30976974  0.32030469 -0.2797811  -0.23988136  0.07135585\n",
      "  -0.45039824]]\n",
      "sum of coefficients 2.448921241572468\n",
      "r^2 0.6773633726730139\n"
     ]
    }
   ],
   "source": [
    "rr = Ridge()\n",
    "rr.fit(X_train_scaled, Y_train_scaled) \n",
    "print(\"coefficients\", rr.coef_)\n",
    "print(\"sum of coefficients\", sum(np.abs(rr.coef_[0])))\n",
    "print(\"r^2\", rr.score(X_test_scaled, Y_test_scaled))"
   ]
  },
  {
   "cell_type": "code",
   "execution_count": 128,
   "metadata": {},
   "outputs": [
    {
     "data": {
      "text/plain": [
       "(-1.0, 1.0)"
      ]
     },
     "execution_count": 128,
     "metadata": {},
     "output_type": "execute_result"
    },
    {
     "data": {
      "image/png": "[encoded data removed]",
      "text/plain": [
       "<Figure size 432x288 with 1 Axes>"
      ]
     },
     "metadata": {
      "needs_background": "light"
     },
     "output_type": "display_data"
    }
   ],
   "source": [
    "# Putting together the coefficient and their corresponding variable names\n",
    "rr_coefficient = pd.DataFrame()\n",
    "rr_coefficient[\"Feature\"] = boston_dataset.feature_names\n",
    "rr_coefficient['Coefficient Estimate'] = pd.Series(rr.coef_[0])\n",
    "sns.barplot(x='Feature', y='Coefficient Estimate', data=rr_coefficient)\n",
    "pylab.ylim(-1, 1)"
   ]
  },
  {
   "cell_type": "code",
   "execution_count": 129,
   "metadata": {},
   "outputs": [
    {
     "name": "stdout",
     "output_type": "stream",
     "text": [
      "coefficients [[-0.09821567  0.08667309 -0.0004673   0.06623953 -0.17782394  0.26099\n",
      "   0.00858238 -0.2831979   0.23428575 -0.19670425 -0.23061461  0.07086109\n",
      "  -0.43377375]]\n",
      "sum of coefficients 2.1484292454076925\n",
      "r^2 0.679468796997848\n"
     ]
    }
   ],
   "source": [
    "rr = Ridge(alpha=10)\n",
    "rr.fit(X_train_scaled, Y_train_scaled) \n",
    "print(\"coefficients\", rr.coef_)\n",
    "print(\"sum of coefficients\", sum(np.abs(rr.coef_[0])))\n",
    "print(\"r^2\", rr.score(X_test_scaled, Y_test_scaled))"
   ]
  },
  {
   "cell_type": "code",
   "execution_count": 130,
   "metadata": {},
   "outputs": [
    {
     "data": {
      "text/plain": [
       "(-1.0, 1.0)"
      ]
     },
     "execution_count": 130,
     "metadata": {},
     "output_type": "execute_result"
    },
    {
     "data": {
      "image/png": "[encoded data removed]",
      "text/plain": [
       "<Figure size 432x288 with 1 Axes>"
      ]
     },
     "metadata": {
      "needs_background": "light"
     },
     "output_type": "display_data"
    }
   ],
   "source": [
    "# Putting together the coefficient and their corresponding variable names\n",
    "rr_coefficient = pd.DataFrame()\n",
    "rr_coefficient[\"Feature\"] = boston_dataset.feature_names\n",
    "rr_coefficient['Coefficient Estimate'] = pd.Series(rr.coef_[0])\n",
    "sns.barplot(x='Feature', y='Coefficient Estimate', data=rr_coefficient)\n",
    "pylab.ylim(-1, 1)"
   ]
  },
  {
   "cell_type": "code",
   "execution_count": 131,
   "metadata": {},
   "outputs": [
    {
     "name": "stdout",
     "output_type": "stream",
     "text": [
      "coefficients [[-0.07434589  0.05051217 -0.04303827  0.07012767 -0.07788972  0.26824074\n",
      "  -0.01803393 -0.15531772  0.05396003 -0.07040096 -0.1900556   0.06434908\n",
      "  -0.32958813]]\n",
      "sum of coefficients 1.4658599160892147\n",
      "r^2 0.6589547766369708\n"
     ]
    }
   ],
   "source": [
    "rr = Ridge(alpha=100)\n",
    "rr.fit(X_train_scaled, Y_train_scaled) \n",
    "print(\"coefficients\", rr.coef_)\n",
    "print(\"sum of coefficients\", sum(np.abs(rr.coef_[0])))\n",
    "print(\"r^2\", rr.score(X_test_scaled, Y_test_scaled))"
   ]
  },
  {
   "cell_type": "code",
   "execution_count": 132,
   "metadata": {},
   "outputs": [
    {
     "data": {
      "text/plain": [
       "(-1.0, 1.0)"
      ]
     },
     "execution_count": 132,
     "metadata": {},
     "output_type": "execute_result"
    },
    {
     "data": {
      "image/png": "[encoded data removed]",
      "text/plain": [
       "<Figure size 432x288 with 1 Axes>"
      ]
     },
     "metadata": {
      "needs_background": "light"
     },
     "output_type": "display_data"
    }
   ],
   "source": [
    "# Putting together the coefficient and their corresponding variable names\n",
    "rr_coefficient = pd.DataFrame()\n",
    "rr_coefficient[\"Feature\"] = boston_dataset.feature_names\n",
    "rr_coefficient['Coefficient Estimate'] = pd.Series(rr.coef_[0])\n",
    "sns.barplot(x='Feature', y='Coefficient Estimate', data=rr_coefficient)\n",
    "pylab.ylim(-1, 1)"
   ]
  },
  {
   "cell_type": "code",
   "execution_count": 133,
   "metadata": {},
   "outputs": [
    {
     "name": "stdout",
     "output_type": "stream",
     "text": [
      "coefficients [[-0.01261739  0.01100579 -0.01389009  0.00583944 -0.01183783  0.0228202\n",
      "  -0.01074283  0.00594069 -0.01165027 -0.01435142 -0.01841835  0.00939807\n",
      "  -0.02392132]]\n",
      "sum of coefficients 0.17243367991631525\n",
      "r^2 0.14429271024274803\n"
     ]
    }
   ],
   "source": [
    "rr = Ridge(alpha=10000)\n",
    "rr.fit(X_train_scaled, Y_train_scaled) \n",
    "print(\"coefficients\", rr.coef_)\n",
    "print(\"sum of coefficients\", sum(np.abs(rr.coef_[0])))\n",
    "print(\"r^2\", rr.score(X_test_scaled, Y_test_scaled))"
   ]
  },
  {
   "cell_type": "code",
   "execution_count": 135,
   "metadata": {},
   "outputs": [
    {
     "data": {
      "text/plain": [
       "(-1.0, 1.0)"
      ]
     },
     "execution_count": 135,
     "metadata": {},
     "output_type": "execute_result"
    },
    {
     "data": {
      "image/png": "[encoded data removed]",
      "text/plain": [
       "<Figure size 432x288 with 1 Axes>"
      ]
     },
     "metadata": {
      "needs_background": "light"
     },
     "output_type": "display_data"
    }
   ],
   "source": [
    "# Putting together the coefficient and their corresponding variable names\n",
    "rr_coefficient = pd.DataFrame()\n",
    "rr_coefficient[\"Feature\"] = boston_dataset.feature_names\n",
    "rr_coefficient['Coefficient Estimate'] = pd.Series(rr.coef_[0])\n",
    "sns.barplot(x='Feature', y='Coefficient Estimate', data=rr_coefficient)\n",
    "pylab.ylim(-1, 1)"
   ]
  },
  {
   "cell_type": "code",
   "execution_count": null,
   "metadata": {},
   "outputs": [],
   "source": []
  }
 ],
 "metadata": {
  "kernelspec": {
   "display_name": "cmpinf2120",
   "language": "python",
   "name": "cmpinf2120"
  },
  "language_info": {
   "codemirror_mode": {
    "name": "ipython",
    "version": 3
   },
   "file_extension": ".py",
   "mimetype": "text/x-python",
   "name": "python",
   "nbconvert_exporter": "python",
   "pygments_lexer": "ipython3",
   "version": "3.9.7"
  }
 },
 "nbformat": 4,
 "nbformat_minor": 4
}

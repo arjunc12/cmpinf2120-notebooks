{
 "cells": [
  {
   "cell_type": "markdown",
   "id": "proved-shelf",
   "metadata": {},
   "source": [
    "Analysis borrowed from lifelines documentation https://lifelines.readthedocs.io/en/latest/Survival%20Analysis%20intro.html"
   ]
  },
  {
   "cell_type": "code",
   "execution_count": 1,
   "id": "swiss-account",
   "metadata": {},
   "outputs": [],
   "source": [
    "from lifelines.plotting import plot_lifetimes\n",
    "import numpy as np\n",
    "from numpy.random import uniform, exponential"
   ]
  },
  {
   "cell_type": "code",
   "execution_count": 2,
   "id": "skilled-religion",
   "metadata": {},
   "outputs": [],
   "source": [
    "N = 25\n",
    "CURRENT_TIME = 10"
   ]
  },
  {
   "cell_type": "code",
   "execution_count": 8,
   "id": "center-cleveland",
   "metadata": {},
   "outputs": [],
   "source": [
    "actual_lifetimes = np.array([\n",
    "    exponential(12) if (uniform() < 0.5) else exponential(2) for i in range(N)\n",
    "])"
   ]
  },
  {
   "cell_type": "code",
   "execution_count": 9,
   "id": "ethical-simple",
   "metadata": {},
   "outputs": [],
   "source": [
    "observed_lifetimes = np.minimum(actual_lifetimes, CURRENT_TIME)\n",
    "death_observed = actual_lifetimes < CURRENT_TIME"
   ]
  },
  {
   "cell_type": "code",
   "execution_count": 10,
   "id": "blank-sector",
   "metadata": {},
   "outputs": [
    {
     "name": "stdout",
     "output_type": "stream",
     "text": [
      "Observed lifetimes at time 10:\n",
      " [ 5.90003845 10.          5.80814399  0.18383266  0.2052988   2.81142837\n",
      "  3.12377773  2.45846761  1.57765321 10.         10.         10.\n",
      "  0.93915683  5.00226428  1.29194163  2.69073571  4.5267451   6.2811506\n",
      "  5.99295565 10.         10.          3.83491615  0.6072861   7.26197038\n",
      "  0.8759904 ]\n"
     ]
    },
    {
     "data": {
      "image/png": "[encoded data removed]",
      "text/plain": [
       "<Figure size 432x288 with 1 Axes>"
      ]
     },
     "metadata": {
      "needs_background": "light"
     },
     "output_type": "display_data"
    }
   ],
   "source": [
    "ax = plot_lifetimes(observed_lifetimes, event_observed=death_observed)\n",
    "ax.set_xlim(0, 25)\n",
    "ax.vlines(10, 0, 30, lw=2, linestyles='--')\n",
    "ax.set_xlabel(\"time\")\n",
    "ax.set_title(\"Births and deaths of our population, at $t=10$\")\n",
    "print(\"Observed lifetimes at time %d:\\n\" % (CURRENT_TIME), observed_lifetimes)"
   ]
  },
  {
   "cell_type": "code",
   "execution_count": 11,
   "id": "honey-gamma",
   "metadata": {},
   "outputs": [
    {
     "data": {
      "text/plain": [
       "(0.0, 25.0)"
      ]
     },
     "execution_count": 11,
     "metadata": {},
     "output_type": "execute_result"
    },
    {
     "data": {
      "image/png": "[encoded data removed]",
      "text/plain": [
       "<Figure size 432x288 with 1 Axes>"
      ]
     },
     "metadata": {
      "needs_background": "light"
     },
     "output_type": "display_data"
    }
   ],
   "source": [
    "ax = plot_lifetimes(actual_lifetimes, event_observed=death_observed)\n",
    "ax.vlines(10, 0, 30, lw=2, linestyles='--')\n",
    "ax.set_xlim(0, 25)"
   ]
  },
  {
   "cell_type": "code",
   "execution_count": null,
   "id": "greenhouse-structure",
   "metadata": {},
   "outputs": [],
   "source": []
  }
 ],
 "metadata": {
  "kernelspec": {
   "display_name": "cmpinf2120",
   "language": "python",
   "name": "cmpinf2120"
  },
  "language_info": {
   "codemirror_mode": {
    "name": "ipython",
    "version": 3
   },
   "file_extension": ".py",
   "mimetype": "text/x-python",
   "name": "python",
   "nbconvert_exporter": "python",
   "pygments_lexer": "ipython3",
   "version": "3.9.1"
  }
 },
 "nbformat": 4,
 "nbformat_minor": 5
}

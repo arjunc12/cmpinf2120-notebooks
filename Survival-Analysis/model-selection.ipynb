{
 "cells": [
  {
   "cell_type": "markdown",
   "id": "animated-coral",
   "metadata": {},
   "source": [
    "analysis borrowed from lifelines documentation https://lifelines.readthedocs.io/en/latest/Survival%20Regression.html\n",
    "\n",
    "Piecewise exponential analysis borrowed from here https://github.com/CamDavidsonPilon/lifelines/blob/master/examples/SaaS%20churn%20and%20piecewise%20regression%20models.ipynb"
   ]
  },
  {
   "cell_type": "code",
   "execution_count": 1,
   "id": "major-spotlight",
   "metadata": {},
   "outputs": [],
   "source": [
    "from lifelines import LogLogisticAFTFitter, WeibullAFTFitter, LogNormalAFTFitter\n",
    "from lifelines.datasets import load_rossi"
   ]
  },
  {
   "cell_type": "code",
   "execution_count": 2,
   "id": "visible-tobago",
   "metadata": {},
   "outputs": [],
   "source": [
    "rossi = load_rossi()"
   ]
  },
  {
   "cell_type": "code",
   "execution_count": 3,
   "id": "middle-cincinnati",
   "metadata": {},
   "outputs": [],
   "source": [
    "llf = LogLogisticAFTFitter().fit(rossi, 'week', 'arrest')\n",
    "lnf = LogNormalAFTFitter().fit(rossi, 'week', 'arrest')\n",
    "wf = WeibullAFTFitter().fit(rossi, 'week', 'arrest')"
   ]
  },
  {
   "cell_type": "code",
   "execution_count": 4,
   "id": "bronze-archives",
   "metadata": {},
   "outputs": [
    {
     "name": "stdout",
     "output_type": "stream",
     "text": [
      "1377.877012356247\n",
      "1384.4692508817013\n",
      "1377.8331278951669\n"
     ]
    }
   ],
   "source": [
    "print(llf.AIC_)  # 1377.877\n",
    "print(lnf.AIC_)  # 1384.469\n",
    "print(wf.AIC_)   # 1377.833, slightly the best model."
   ]
  },
  {
   "cell_type": "code",
   "execution_count": 5,
   "id": "equivalent-highlight",
   "metadata": {},
   "outputs": [],
   "source": [
    "# with some heterogeneity in the ancillary parameters\n",
    "ancillary = rossi[['prio']]\n",
    "llf = LogLogisticAFTFitter().fit(rossi, 'week', 'arrest', ancillary=ancillary)\n",
    "lnf = LogNormalAFTFitter().fit(rossi, 'week', 'arrest', ancillary=ancillary)\n",
    "wf = WeibullAFTFitter().fit(rossi, 'week', 'arrest', ancillary=ancillary)"
   ]
  },
  {
   "cell_type": "code",
   "execution_count": 6,
   "id": "gorgeous-exploration",
   "metadata": {},
   "outputs": [
    {
     "name": "stdout",
     "output_type": "stream",
     "text": [
      "1377.8977823020325\n",
      "1380.7974417743326\n",
      "1379.2121834700297\n"
     ]
    }
   ],
   "source": [
    "print(llf.AIC_) # 1377.89, the best model here, but not the overall best.\n",
    "print(lnf.AIC_) # 1380.79\n",
    "print(wf.AIC_)  # 1379.21"
   ]
  },
  {
   "cell_type": "code",
   "execution_count": 8,
   "id": "binding-croatia",
   "metadata": {},
   "outputs": [],
   "source": [
    "from lifelines.fitters.piecewise_exponential_regression_fitter import PiecewiseExponentialRegressionFitter\n",
    "from lifelines import KaplanMeierFitter"
   ]
  },
  {
   "cell_type": "code",
   "execution_count": 11,
   "id": "homeless-projection",
   "metadata": {},
   "outputs": [
    {
     "data": {
      "image/png": "[encoded data removed]",
      "text/plain": [
       "<Figure size 792x432 with 1 Axes>"
      ]
     },
     "metadata": {
      "needs_background": "light"
     },
     "output_type": "display_data"
    }
   ],
   "source": [
    "kmf = KaplanMeierFitter().fit(rossi['week'], rossi['arrest'])\n",
    "kmf.plot(figsize=(11,6));"
   ]
  },
  {
   "cell_type": "code",
   "execution_count": 13,
   "id": "supposed-course",
   "metadata": {},
   "outputs": [
    {
     "name": "stderr",
     "output_type": "stream",
     "text": [
      "/Users/arjunchandrasekhar/opt/anaconda3/envs/cmpinf2120/lib/python3.9/site-packages/lifelines/fitters/__init__.py:2317: ApproximationWarning: Approximating using `predict_survival_function`. To increase accuracy, try using or increasing the resolution of the timeline kwarg in `.fit(..., timeline=timeline)`.\n",
      "\n",
      "  warnings.warn(\n"
     ]
    }
   ],
   "source": [
    "pew = PiecewiseExponentialRegressionFitter(breakpoints=(8, 20)).fit(rossi, 'week', 'arrest')"
   ]
  },
  {
   "cell_type": "code",
   "execution_count": 14,
   "id": "rapid-investigation",
   "metadata": {},
   "outputs": [
    {
     "name": "stdout",
     "output_type": "stream",
     "text": [
      "1388.9934914867804\n"
     ]
    }
   ],
   "source": [
    "print(pew.AIC_)"
   ]
  },
  {
   "cell_type": "code",
   "execution_count": null,
   "id": "opening-stadium",
   "metadata": {},
   "outputs": [],
   "source": []
  }
 ],
 "metadata": {
  "kernelspec": {
   "display_name": "cmpinf2120",
   "language": "python",
   "name": "cmpinf2120"
  },
  "language_info": {
   "codemirror_mode": {
    "name": "ipython",
    "version": 3
   },
   "file_extension": ".py",
   "mimetype": "text/x-python",
   "name": "python",
   "nbconvert_exporter": "python",
   "pygments_lexer": "ipython3",
   "version": "3.9.1"
  }
 },
 "nbformat": 4,
 "nbformat_minor": 5
}

{
 "cells": [
  {
   "cell_type": "code",
   "execution_count": 1,
   "id": "great-transsexual",
   "metadata": {},
   "outputs": [],
   "source": [
    "import numpy as np\n",
    "import seaborn as sns\n",
    "from sklearn.linear_model import LinearRegression"
   ]
  },
  {
   "cell_type": "code",
   "execution_count": 178,
   "id": "connected-shield",
   "metadata": {},
   "outputs": [],
   "source": [
    "correct = 10 + 2 * 50 + 0.6 * (50 ** 2)"
   ]
  },
  {
   "cell_type": "code",
   "execution_count": 254,
   "id": "russian-partition",
   "metadata": {},
   "outputs": [],
   "source": [
    "predictions50 = []\n",
    "for i in range(100):\n",
    "    x_train = np.tile(np.arange(1, 25), 4)\n",
    "    y_train = 10 + 2 * x_train + 0.6 * (x_train ** 2) + np.random.normal(loc=0, scale=1, size=len(x_train))\n",
    "    model = LinearRegression()\n",
    "    model.fit(x_train.reshape(-1, 1), y_train)\n",
    "    y_hat = model.predict([[50]])\n",
    "    predictions50.append(y_hat[0])"
   ]
  },
  {
   "cell_type": "code",
   "execution_count": 255,
   "id": "accredited-dialogue",
   "metadata": {},
   "outputs": [
    {
     "name": "stdout",
     "output_type": "stream",
     "text": [
      "0.24101833653671823\n"
     ]
    },
    {
     "data": {
      "text/plain": [
       "<AxesSubplot:ylabel='Count'>"
      ]
     },
     "execution_count": 255,
     "metadata": {},
     "output_type": "execute_result"
    },
    {
     "data": {
      "image/png": "[encoded data removed]",
      "text/plain": [
       "<Figure size 432x288 with 1 Axes>"
      ]
     },
     "metadata": {
      "needs_background": "light"
     },
     "output_type": "display_data"
    }
   ],
   "source": [
    "# how spread out are the predictions at 50?\n",
    "variation = (predictions50 - np.mean(predictions50)) ** 2\n",
    "print(variation.mean())\n",
    "sns.histplot(variation)"
   ]
  },
  {
   "cell_type": "code",
   "execution_count": 256,
   "id": "thirty-manufacturer",
   "metadata": {},
   "outputs": [
    {
     "name": "stdout",
     "output_type": "stream",
     "text": [
      "-814.8884808598267\n"
     ]
    },
    {
     "data": {
      "text/plain": [
       "<AxesSubplot:ylabel='Count'>"
      ]
     },
     "execution_count": 256,
     "metadata": {},
     "output_type": "execute_result"
    },
    {
     "data": {
      "image/png": "[encoded data removed]",
      "text/plain": [
       "<Figure size 432x288 with 1 Axes>"
      ]
     },
     "metadata": {
      "needs_background": "light"
     },
     "output_type": "display_data"
    }
   ],
   "source": [
    "# how \"correct\" are the predictions at 50?\n",
    "error = np.array(predictions50) - correct\n",
    "print(error.mean())\n",
    "sns.histplot(error)"
   ]
  },
  {
   "cell_type": "code",
   "execution_count": 258,
   "id": "fatty-raising",
   "metadata": {},
   "outputs": [],
   "source": [
    "predictions50_2 = []\n",
    "for i in range(100):\n",
    "    x_train = np.tile(np.arange(1, 25), 4)\n",
    "    y_train = 10 + 2 * x_train + 0.6 * (x_train ** 2) + np.random.normal(loc=0, scale=1, size=len(x_train))\n",
    "    # let's use a more complicated model with a log(x) term\n",
    "    x_train = np.matrix([x_train, np.log(x_train)]).T\n",
    "    model = LinearRegression()\n",
    "    model.fit(x_train, y_train)\n",
    "    y_hat = model.predict([[50, np.log(50)]])\n",
    "    predictions50_2.append(y_hat[0])"
   ]
  },
  {
   "cell_type": "code",
   "execution_count": 261,
   "id": "polished-customer",
   "metadata": {},
   "outputs": [
    {
     "name": "stdout",
     "output_type": "stream",
     "text": [
      "1.0035046222123243\n"
     ]
    },
    {
     "data": {
      "text/plain": [
       "<AxesSubplot:ylabel='Count'>"
      ]
     },
     "execution_count": 261,
     "metadata": {},
     "output_type": "execute_result"
    },
    {
     "data": {
      "image/png": "[encoded data removed]",
      "text/plain": [
       "<Figure size 432x288 with 1 Axes>"
      ]
     },
     "metadata": {
      "needs_background": "light"
     },
     "output_type": "display_data"
    }
   ],
   "source": [
    "# how spread out are the predictions around 50?\n",
    "variation = (predictions50_2 - np.mean(predictions50_2)) ** 2\n",
    "print(variation.mean())\n",
    "sns.histplot(variation)"
   ]
  },
  {
   "cell_type": "markdown",
   "id": "otherwise-consumption",
   "metadata": {},
   "source": [
    "Our predictions are more volatile"
   ]
  },
  {
   "cell_type": "code",
   "execution_count": 260,
   "id": "immune-honduras",
   "metadata": {},
   "outputs": [
    {
     "name": "stdout",
     "output_type": "stream",
     "text": [
      "-635.5503271498499\n"
     ]
    },
    {
     "data": {
      "text/plain": [
       "<AxesSubplot:ylabel='Count'>"
      ]
     },
     "execution_count": 260,
     "metadata": {},
     "output_type": "execute_result"
    },
    {
     "data": {
      "image/png": "[encoded data removed]",
      "text/plain": [
       "<Figure size 432x288 with 1 Axes>"
      ]
     },
     "metadata": {
      "needs_background": "light"
     },
     "output_type": "display_data"
    }
   ],
   "source": [
    "# how \"correct\" are the predictions around 50?\n",
    "error = np.array(predictions50_2) - correct\n",
    "print(error.mean())\n",
    "sns.histplot(error)"
   ]
  },
  {
   "cell_type": "markdown",
   "id": "waiting-insert",
   "metadata": {},
   "source": [
    "our predictions are more \"correct\""
   ]
  },
  {
   "cell_type": "code",
   "execution_count": null,
   "id": "smaller-indianapolis",
   "metadata": {},
   "outputs": [],
   "source": []
  }
 ],
 "metadata": {
  "kernelspec": {
   "display_name": "cmpinf2120",
   "language": "python",
   "name": "cmpinf2120"
  },
  "language_info": {
   "codemirror_mode": {
    "name": "ipython",
    "version": 3
   },
   "file_extension": ".py",
   "mimetype": "text/x-python",
   "name": "python",
   "nbconvert_exporter": "python",
   "pygments_lexer": "ipython3",
   "version": "3.9.1"
  }
 },
 "nbformat": 4,
 "nbformat_minor": 5
}

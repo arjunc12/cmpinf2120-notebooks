{
 "cells": [
  {
   "cell_type": "markdown",
   "id": "dated-initial",
   "metadata": {},
   "source": [
    "- analysis borrowed from Deepika Singh https://www.pluralsight.com/guides/linear-lasso-ridge-regression-scikit-learn"
   ]
  },
  {
   "cell_type": "code",
   "execution_count": 1,
   "id": "asian-connection",
   "metadata": {},
   "outputs": [],
   "source": [
    "import pandas as pd\n",
    "import numpy as np\n",
    "from sklearn.model_selection import train_test_split\n",
    "from sklearn.linear_model import LinearRegression\n",
    "from sklearn.linear_model import Ridge\n",
    "from sklearn.linear_model import Lasso\n",
    "from sklearn.linear_model import ElasticNet"
   ]
  },
  {
   "cell_type": "code",
   "execution_count": 2,
   "id": "induced-ready",
   "metadata": {},
   "outputs": [
    {
     "name": "stdout",
     "output_type": "stream",
     "text": [
      "(574, 5)\n"
     ]
    },
    {
     "data": {
      "text/html": [
       "<div>\n",
       "<style scoped>\n",
       "    .dataframe tbody tr th:only-of-type {\n",
       "        vertical-align: middle;\n",
       "    }\n",
       "\n",
       "    .dataframe tbody tr th {\n",
       "        vertical-align: top;\n",
       "    }\n",
       "\n",
       "    .dataframe thead th {\n",
       "        text-align: right;\n",
       "    }\n",
       "</style>\n",
       "<table border=\"1\" class=\"dataframe\">\n",
       "  <thead>\n",
       "    <tr style=\"text-align: right;\">\n",
       "      <th></th>\n",
       "      <th>pce</th>\n",
       "      <th>pop</th>\n",
       "      <th>psavert</th>\n",
       "      <th>uempmed</th>\n",
       "      <th>unemploy</th>\n",
       "    </tr>\n",
       "  </thead>\n",
       "  <tbody>\n",
       "    <tr>\n",
       "      <th>count</th>\n",
       "      <td>574.000000</td>\n",
       "      <td>574.000000</td>\n",
       "      <td>574.000000</td>\n",
       "      <td>574.000000</td>\n",
       "      <td>574.000000</td>\n",
       "    </tr>\n",
       "    <tr>\n",
       "      <th>mean</th>\n",
       "      <td>4820.092683</td>\n",
       "      <td>257159.652662</td>\n",
       "      <td>8.567247</td>\n",
       "      <td>8.608711</td>\n",
       "      <td>7771.310105</td>\n",
       "    </tr>\n",
       "    <tr>\n",
       "      <th>std</th>\n",
       "      <td>3556.803613</td>\n",
       "      <td>36682.398508</td>\n",
       "      <td>2.964179</td>\n",
       "      <td>4.106645</td>\n",
       "      <td>2641.959180</td>\n",
       "    </tr>\n",
       "    <tr>\n",
       "      <th>min</th>\n",
       "      <td>506.700000</td>\n",
       "      <td>198712.000000</td>\n",
       "      <td>2.200000</td>\n",
       "      <td>4.000000</td>\n",
       "      <td>2685.000000</td>\n",
       "    </tr>\n",
       "    <tr>\n",
       "      <th>25%</th>\n",
       "      <td>1578.300000</td>\n",
       "      <td>224896.000000</td>\n",
       "      <td>6.400000</td>\n",
       "      <td>6.000000</td>\n",
       "      <td>6284.000000</td>\n",
       "    </tr>\n",
       "    <tr>\n",
       "      <th>50%</th>\n",
       "      <td>3936.850000</td>\n",
       "      <td>253060.000000</td>\n",
       "      <td>8.400000</td>\n",
       "      <td>7.500000</td>\n",
       "      <td>7494.000000</td>\n",
       "    </tr>\n",
       "    <tr>\n",
       "      <th>75%</th>\n",
       "      <td>7626.325000</td>\n",
       "      <td>290290.750000</td>\n",
       "      <td>11.100000</td>\n",
       "      <td>9.100000</td>\n",
       "      <td>8685.500000</td>\n",
       "    </tr>\n",
       "    <tr>\n",
       "      <th>max</th>\n",
       "      <td>12193.800000</td>\n",
       "      <td>320402.295000</td>\n",
       "      <td>17.300000</td>\n",
       "      <td>25.200000</td>\n",
       "      <td>15352.000000</td>\n",
       "    </tr>\n",
       "  </tbody>\n",
       "</table>\n",
       "</div>"
      ],
      "text/plain": [
       "                pce            pop     psavert     uempmed      unemploy\n",
       "count    574.000000     574.000000  574.000000  574.000000    574.000000\n",
       "mean    4820.092683  257159.652662    8.567247    8.608711   7771.310105\n",
       "std     3556.803613   36682.398508    2.964179    4.106645   2641.959180\n",
       "min      506.700000  198712.000000    2.200000    4.000000   2685.000000\n",
       "25%     1578.300000  224896.000000    6.400000    6.000000   6284.000000\n",
       "50%     3936.850000  253060.000000    8.400000    7.500000   7494.000000\n",
       "75%     7626.325000  290290.750000   11.100000    9.100000   8685.500000\n",
       "max    12193.800000  320402.295000   17.300000   25.200000  15352.000000"
      ]
     },
     "execution_count": 2,
     "metadata": {},
     "output_type": "execute_result"
    }
   ],
   "source": [
    "df = pd.read_csv('unemployment.csv')\n",
    "df.drop('date', axis=1, inplace=True)\n",
    "print(df.shape)\n",
    "df.describe()"
   ]
  },
  {
   "cell_type": "code",
   "execution_count": 3,
   "id": "guided-fellow",
   "metadata": {},
   "outputs": [],
   "source": [
    "X = df.drop('unemploy', axis=1)\n",
    "Y = df['unemploy']"
   ]
  },
  {
   "cell_type": "code",
   "execution_count": 4,
   "id": "determined-nigeria",
   "metadata": {},
   "outputs": [],
   "source": [
    "X_train, X_test, Y_train, Y_test = train_test_split(X, Y)"
   ]
  },
  {
   "cell_type": "code",
   "execution_count": 6,
   "id": "binary-paper",
   "metadata": {},
   "outputs": [
    {
     "name": "stdout",
     "output_type": "stream",
     "text": [
      "coefficients [-1.60601859e+00  1.66138478e-01  1.97114435e+02  5.81370257e+02]\n",
      "sum of coefficients 777.0448120714989\n",
      "r^2 0.8439103546480788\n"
     ]
    }
   ],
   "source": [
    "lr = LinearRegression()\n",
    "lr.fit(X_train, Y_train)\n",
    "print(\"coefficients\", lr.coef_)\n",
    "print(\"sum of coefficients\", sum(lr.coef_))\n",
    "print(\"r^2\", lr.score(X_test, Y_test))"
   ]
  },
  {
   "cell_type": "code",
   "execution_count": 7,
   "id": "premium-granny",
   "metadata": {},
   "outputs": [
    {
     "name": "stdout",
     "output_type": "stream",
     "text": [
      "coefficients [-1.60600021e+00  1.66137385e-01  1.97113584e+02  5.81361079e+02]\n",
      "sum of coefficients 777.0348003744517\n",
      "r^2 0.8439110106529504\n"
     ]
    }
   ],
   "source": [
    "rr = Ridge(alpha=0.05)\n",
    "rr.fit(X_train, Y_train) \n",
    "print(\"coefficients\", rr.coef_)\n",
    "print(\"sum of coefficients\", sum(rr.coef_))\n",
    "print(\"r^2\", rr.score(X_test, Y_test))"
   ]
  },
  {
   "cell_type": "code",
   "execution_count": 19,
   "id": "pursuant-anchor",
   "metadata": {},
   "outputs": [
    {
     "name": "stdout",
     "output_type": "stream",
     "text": [
      "coefficients [-1.60599380e+00  1.66134091e-01  1.97087138e+02  5.81372079e+02]\n",
      "sum of coefficients 777.01935810472\n",
      "r^2 0.8439113567838662\n"
     ]
    }
   ],
   "source": [
    "lasso = Lasso(alpha=0.05)\n",
    "lasso.fit(X_train, Y_train) \n",
    "print(\"coefficients\", lasso.coef_)\n",
    "print(\"sum of coefficients\", sum(lasso.coef_))\n",
    "print(\"r^2\", lasso.score(X_test, Y_test))"
   ]
  },
  {
   "cell_type": "code",
   "execution_count": 9,
   "id": "interracial-sheriff",
   "metadata": {},
   "outputs": [
    {
     "name": "stdout",
     "output_type": "stream",
     "text": [
      "coefficients [-1.60206416e+00  1.65900784e-01  1.96909196e+02  5.79407527e+02]\n",
      "sum of coefficients 774.8805605055481\n",
      "r^2 0.8440470139811491\n"
     ]
    }
   ],
   "source": [
    "enet = ElasticNet(alpha=0.05, max_iter=10000)\n",
    "enet.fit(X_train, Y_train)\n",
    "print(\"coefficients\", enet.coef_)\n",
    "print(\"sum of coefficients\", sum(enet.coef_))\n",
    "print(\"r^2\", enet.score(X_test, Y_test))"
   ]
  },
  {
   "cell_type": "code",
   "execution_count": 21,
   "id": "intellectual-facing",
   "metadata": {},
   "outputs": [
    {
     "name": "stdout",
     "output_type": "stream",
     "text": [
      "best alpha 0.8200000000000001\n",
      "coefficients [-1.54363474e+00  1.62210516e-01  1.92272904e+02  5.51271905e+02]\n",
      "sum of coefficients 742.1633848227409\n",
      "r^2 0.8450201772116314\n"
     ]
    }
   ],
   "source": [
    "best_model = None\n",
    "best_score = 0\n",
    "best_alpha = None\n",
    "for alpha in np.arange(0.01, 10, 0.01):\n",
    "    enet = ElasticNet(alpha=alpha, max_iter=100000)\n",
    "    enet.fit(X_train, Y_train)\n",
    "    score = enet.score(X_test, Y_test)\n",
    "    if score > best_score:\n",
    "        best_model = enet\n",
    "        best_score = score\n",
    "        best_alpha = alpha\n",
    "        \n",
    "print(\"best alpha\", best_alpha)\n",
    "print(\"coefficients\", best_model.coef_)\n",
    "print(\"sum of coefficients\", sum(best_model.coef_))\n",
    "print(\"r^2\", best_model.score(X_test, Y_test))"
   ]
  },
  {
   "cell_type": "code",
   "execution_count": null,
   "id": "present-likelihood",
   "metadata": {},
   "outputs": [],
   "source": []
  }
 ],
 "metadata": {
  "kernelspec": {
   "display_name": "Python 3",
   "language": "python",
   "name": "python3"
  },
  "language_info": {
   "codemirror_mode": {
    "name": "ipython",
    "version": 3
   },
   "file_extension": ".py",
   "mimetype": "text/x-python",
   "name": "python",
   "nbconvert_exporter": "python",
   "pygments_lexer": "ipython3",
   "version": "3.9.1"
  }
 },
 "nbformat": 4,
 "nbformat_minor": 5
}

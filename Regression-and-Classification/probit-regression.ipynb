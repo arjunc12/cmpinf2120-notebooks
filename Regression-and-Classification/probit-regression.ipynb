{
 "cells": [
  {
   "cell_type": "markdown",
   "metadata": {},
   "source": [
    "This analysis is borrowed from here https://jbhender.github.io/Stats506/F18/GP/Group14.html"
   ]
  },
  {
   "cell_type": "code",
   "execution_count": 43,
   "metadata": {},
   "outputs": [],
   "source": [
    "import pandas as pd\n",
    "import numpy as np\n",
    "from statsmodels.discrete.discrete_model import Probit\n",
    "from statsmodels.tools.tools import add_constant\n",
    "data = pd.read_csv('https://vincentarelbundock.github.io/Rdatasets/csv/carData/Mroz.csv')"
   ]
  },
  {
   "cell_type": "code",
   "execution_count": 44,
   "metadata": {},
   "outputs": [
    {
     "data": {
      "text/html": [
       "<div>\n",
       "<style scoped>\n",
       "    .dataframe tbody tr th:only-of-type {\n",
       "        vertical-align: middle;\n",
       "    }\n",
       "\n",
       "    .dataframe tbody tr th {\n",
       "        vertical-align: top;\n",
       "    }\n",
       "\n",
       "    .dataframe thead th {\n",
       "        text-align: right;\n",
       "    }\n",
       "</style>\n",
       "<table border=\"1\" class=\"dataframe\">\n",
       "  <thead>\n",
       "    <tr style=\"text-align: right;\">\n",
       "      <th></th>\n",
       "      <th>lfp</th>\n",
       "      <th>k5</th>\n",
       "      <th>k618</th>\n",
       "      <th>age</th>\n",
       "      <th>lwg</th>\n",
       "      <th>inc</th>\n",
       "      <th>wc_yes</th>\n",
       "      <th>hc_yes</th>\n",
       "    </tr>\n",
       "  </thead>\n",
       "  <tbody>\n",
       "    <tr>\n",
       "      <th>0</th>\n",
       "      <td>1</td>\n",
       "      <td>1</td>\n",
       "      <td>0</td>\n",
       "      <td>32</td>\n",
       "      <td>1.210165</td>\n",
       "      <td>10.910001</td>\n",
       "      <td>0</td>\n",
       "      <td>0</td>\n",
       "    </tr>\n",
       "    <tr>\n",
       "      <th>1</th>\n",
       "      <td>1</td>\n",
       "      <td>0</td>\n",
       "      <td>2</td>\n",
       "      <td>30</td>\n",
       "      <td>0.328504</td>\n",
       "      <td>19.500000</td>\n",
       "      <td>0</td>\n",
       "      <td>0</td>\n",
       "    </tr>\n",
       "    <tr>\n",
       "      <th>2</th>\n",
       "      <td>1</td>\n",
       "      <td>1</td>\n",
       "      <td>3</td>\n",
       "      <td>35</td>\n",
       "      <td>1.514128</td>\n",
       "      <td>12.039999</td>\n",
       "      <td>0</td>\n",
       "      <td>0</td>\n",
       "    </tr>\n",
       "    <tr>\n",
       "      <th>3</th>\n",
       "      <td>1</td>\n",
       "      <td>0</td>\n",
       "      <td>3</td>\n",
       "      <td>34</td>\n",
       "      <td>0.092115</td>\n",
       "      <td>6.800000</td>\n",
       "      <td>0</td>\n",
       "      <td>0</td>\n",
       "    </tr>\n",
       "    <tr>\n",
       "      <th>4</th>\n",
       "      <td>1</td>\n",
       "      <td>1</td>\n",
       "      <td>2</td>\n",
       "      <td>31</td>\n",
       "      <td>1.524280</td>\n",
       "      <td>20.100000</td>\n",
       "      <td>1</td>\n",
       "      <td>0</td>\n",
       "    </tr>\n",
       "  </tbody>\n",
       "</table>\n",
       "</div>"
      ],
      "text/plain": [
       "   lfp  k5  k618  age       lwg        inc  wc_yes  hc_yes\n",
       "0    1   1     0   32  1.210165  10.910001       0       0\n",
       "1    1   0     2   30  0.328504  19.500000       0       0\n",
       "2    1   1     3   35  1.514128  12.039999       0       0\n",
       "3    1   0     3   34  0.092115   6.800000       0       0\n",
       "4    1   1     2   31  1.524280  20.100000       1       0"
      ]
     },
     "execution_count": 44,
     "metadata": {},
     "output_type": "execute_result"
    }
   ],
   "source": [
    "#data = data.drop(data.columns[0], axis = 1)\n",
    "#data[\"lfp\"] = data[\"lfp\"] == \"yes\"\n",
    "#data[\"wc\"] = data[\"wc\"] == \"yes\"\n",
    "#data[\"hc\"] = data[\"hc\"] == \"yes\"\n",
    "data = data.drop(data.columns[0], axis = 1)\n",
    "data = pd.get_dummies(data, columns=['wc', 'hc'], drop_first=True)\n",
    "data['lfp'] = data['lfp'].map({'yes' : 1, 'no' : 0})\n",
    "data.head()"
   ]
  },
  {
   "cell_type": "code",
   "execution_count": 45,
   "metadata": {},
   "outputs": [
    {
     "name": "stdout",
     "output_type": "stream",
     "text": [
      "Optimization terminated successfully.\n",
      "         Current function value: 0.601189\n",
      "         Iterations 5\n",
      "                          Probit Regression Results                           \n",
      "==============================================================================\n",
      "Dep. Variable:                    lfp   No. Observations:                  753\n",
      "Model:                         Probit   Df Residuals:                      745\n",
      "Method:                           MLE   Df Model:                            7\n",
      "Date:                Thu, 07 Jan 2021   Pseudo R-squ.:                  0.1208\n",
      "Time:                        19:49:37   Log-Likelihood:                -452.69\n",
      "converged:                       True   LL-Null:                       -514.87\n",
      "Covariance Type:            nonrobust   LLR p-value:                 9.471e-24\n",
      "==============================================================================\n",
      "                 coef    std err          z      P>|z|      [0.025      0.975]\n",
      "------------------------------------------------------------------------------\n",
      "const          1.9184      0.381      5.040      0.000       1.172       2.664\n",
      "k5            -0.8747      0.114     -7.703      0.000      -1.097      -0.652\n",
      "k618          -0.0386      0.040     -0.953      0.340      -0.118       0.041\n",
      "age           -0.0378      0.008     -4.971      0.000      -0.053      -0.023\n",
      "lwg            0.3656      0.088      4.165      0.000       0.194       0.538\n",
      "inc           -0.0205      0.005     -4.297      0.000      -0.030      -0.011\n",
      "wc_yes         0.4883      0.135      3.604      0.000       0.223       0.754\n",
      "hc_yes         0.0572      0.124      0.461      0.645      -0.186       0.300\n",
      "==============================================================================\n"
     ]
    }
   ],
   "source": [
    "Y = data[\"lfp\"]\n",
    "X = data.drop([\"lfp\"], 1)\n",
    "X = add_constant(X)\n",
    "model = Probit(Y, X.astype(float))\n",
    "probit_model = model.fit()\n",
    "print(probit_model.summary())"
   ]
  },
  {
   "cell_type": "code",
   "execution_count": null,
   "metadata": {},
   "outputs": [],
   "source": []
  }
 ],
 "metadata": {
  "kernelspec": {
   "display_name": "cmpinf2120",
   "language": "python",
   "name": "cmpinf2120"
  },
  "language_info": {
   "codemirror_mode": {
    "name": "ipython",
    "version": 3
   },
   "file_extension": ".py",
   "mimetype": "text/x-python",
   "name": "python",
   "nbconvert_exporter": "python",
   "pygments_lexer": "ipython3",
   "version": "3.9.1"
  }
 },
 "nbformat": 4,
 "nbformat_minor": 4
}

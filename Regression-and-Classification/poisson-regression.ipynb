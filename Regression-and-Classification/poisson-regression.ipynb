{
 "cells": [
  {
   "cell_type": "markdown",
   "metadata": {},
   "source": [
    "This analysis is borrowed from here https://pymc3.readthedocs.io/en/latest/notebooks/GLM-poisson-regression.html \n",
    "\n",
    "The original authors used a different python package; I am attempting to replicate their analysis using sklearn's Poisson Regression"
   ]
  },
  {
   "cell_type": "code",
   "execution_count": 338,
   "metadata": {},
   "outputs": [],
   "source": [
    "\n",
    "# decide poisson theta values\n",
    "theta_noalcohol_meds = 1    # no alcohol, took an antihist\n",
    "theta_alcohol_meds = 3      # alcohol, took an antihist\n",
    "theta_noalcohol_nomeds = 6  # no alcohol, no antihist\n",
    "theta_alcohol_nomeds = 36   # alcohol, no antihist\n",
    "\n",
    "# create samples\n",
    "q = 1000\n",
    "df = pd.DataFrame({\n",
    "        'nsneeze': np.concatenate((np.random.poisson(theta_noalcohol_meds, q),\n",
    "                                   np.random.poisson(theta_alcohol_meds, q),\n",
    "                                   np.random.poisson(theta_noalcohol_nomeds, q),\n",
    "                                   np.random.poisson(theta_alcohol_nomeds, q))),\n",
    "        'alcohol': np.concatenate((np.repeat(0, q),\n",
    "                                   np.repeat(1, q),\n",
    "                                   np.repeat(0, q),\n",
    "                                   np.repeat(1, q))),\n",
    "        'nomeds': np.concatenate((np.repeat(0, q),\n",
    "                                      np.repeat(0, q),\n",
    "                                      np.repeat(1, q),\n",
    "                                      np.repeat(1, q)))})\n",
    "df['alcohol-nomeds'] = df['alcohol'] * df['nomeds']"
   ]
  },
  {
   "cell_type": "code",
   "execution_count": 339,
   "metadata": {},
   "outputs": [
    {
     "data": {
      "text/html": [
       "<div>\n",
       "<style scoped>\n",
       "    .dataframe tbody tr th:only-of-type {\n",
       "        vertical-align: middle;\n",
       "    }\n",
       "\n",
       "    .dataframe tbody tr th {\n",
       "        vertical-align: top;\n",
       "    }\n",
       "\n",
       "    .dataframe thead th {\n",
       "        text-align: right;\n",
       "    }\n",
       "</style>\n",
       "<table border=\"1\" class=\"dataframe\">\n",
       "  <thead>\n",
       "    <tr style=\"text-align: right;\">\n",
       "      <th></th>\n",
       "      <th>nsneeze</th>\n",
       "      <th>alcohol</th>\n",
       "      <th>nomeds</th>\n",
       "      <th>alcohol-nomeds</th>\n",
       "    </tr>\n",
       "  </thead>\n",
       "  <tbody>\n",
       "    <tr>\n",
       "      <th>0</th>\n",
       "      <td>0</td>\n",
       "      <td>0</td>\n",
       "      <td>0</td>\n",
       "      <td>0</td>\n",
       "    </tr>\n",
       "    <tr>\n",
       "      <th>1</th>\n",
       "      <td>0</td>\n",
       "      <td>0</td>\n",
       "      <td>0</td>\n",
       "      <td>0</td>\n",
       "    </tr>\n",
       "    <tr>\n",
       "      <th>2</th>\n",
       "      <td>3</td>\n",
       "      <td>0</td>\n",
       "      <td>0</td>\n",
       "      <td>0</td>\n",
       "    </tr>\n",
       "    <tr>\n",
       "      <th>3</th>\n",
       "      <td>1</td>\n",
       "      <td>0</td>\n",
       "      <td>0</td>\n",
       "      <td>0</td>\n",
       "    </tr>\n",
       "    <tr>\n",
       "      <th>4</th>\n",
       "      <td>0</td>\n",
       "      <td>0</td>\n",
       "      <td>0</td>\n",
       "      <td>0</td>\n",
       "    </tr>\n",
       "  </tbody>\n",
       "</table>\n",
       "</div>"
      ],
      "text/plain": [
       "   nsneeze  alcohol  nomeds  alcohol-nomeds\n",
       "0        0        0       0               0\n",
       "1        0        0       0               0\n",
       "2        3        0       0               0\n",
       "3        1        0       0               0\n",
       "4        0        0       0               0"
      ]
     },
     "execution_count": 339,
     "metadata": {},
     "output_type": "execute_result"
    }
   ],
   "source": [
    "df.head()"
   ]
  },
  {
   "cell_type": "code",
   "execution_count": 340,
   "metadata": {},
   "outputs": [],
   "source": [
    "X = df.loc[:, df.columns != 'nsneeze']\n",
    "X_vals = X.values\n",
    "y = df['nsneeze']\n",
    "y_vals = y.values"
   ]
  },
  {
   "cell_type": "code",
   "execution_count": 341,
   "metadata": {},
   "outputs": [],
   "source": [
    "X_train, X_test, y_train, y_test = train_test_split(X, y, test_size=0.2, random_state=0)"
   ]
  },
  {
   "cell_type": "code",
   "execution_count": 342,
   "metadata": {},
   "outputs": [
    {
     "data": {
      "text/plain": [
       "PoissonRegressor()"
      ]
     },
     "execution_count": 342,
     "metadata": {},
     "output_type": "execute_result"
    }
   ],
   "source": [
    "pr = PoissonRegressor()\n",
    "pr.fit(X, y)"
   ]
  },
  {
   "cell_type": "code",
   "execution_count": 343,
   "metadata": {},
   "outputs": [
    {
     "data": {
      "text/plain": [
       "array([0.57274246, 0.87823783, 1.01807528])"
      ]
     },
     "execution_count": 343,
     "metadata": {},
     "output_type": "execute_result"
    }
   ],
   "source": [
    "pr.coef_"
   ]
  },
  {
   "cell_type": "code",
   "execution_count": 344,
   "metadata": {},
   "outputs": [
    {
     "data": {
      "text/plain": [
       "array([1.77312312, 2.40665504, 2.76786228])"
      ]
     },
     "execution_count": 344,
     "metadata": {},
     "output_type": "execute_result"
    }
   ],
   "source": [
    "np.exp(pr.coef_)"
   ]
  },
  {
   "cell_type": "code",
   "execution_count": 345,
   "metadata": {},
   "outputs": [
    {
     "data": {
      "text/plain": [
       "0.892793864826645"
      ]
     },
     "execution_count": 345,
     "metadata": {},
     "output_type": "execute_result"
    }
   ],
   "source": [
    "pr.score(X, y)"
   ]
  },
  {
   "cell_type": "code",
   "execution_count": 346,
   "metadata": {},
   "outputs": [
    {
     "data": {
      "text/plain": [
       "1.0005072697482842"
      ]
     },
     "execution_count": 346,
     "metadata": {},
     "output_type": "execute_result"
    }
   ],
   "source": [
    "pr.intercept_"
   ]
  },
  {
   "cell_type": "code",
   "execution_count": null,
   "metadata": {},
   "outputs": [],
   "source": []
  }
 ],
 "metadata": {
  "kernelspec": {
   "display_name": "cmpinf2120",
   "language": "python",
   "name": "cmpinf2120"
  },
  "language_info": {
   "codemirror_mode": {
    "name": "ipython",
    "version": 3
   },
   "file_extension": ".py",
   "mimetype": "text/x-python",
   "name": "python",
   "nbconvert_exporter": "python",
   "pygments_lexer": "ipython3",
   "version": "3.9.1"
  }
 },
 "nbformat": 4,
 "nbformat_minor": 4
}

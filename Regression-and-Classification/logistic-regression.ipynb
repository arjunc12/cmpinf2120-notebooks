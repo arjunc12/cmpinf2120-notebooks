{
 "cells": [
  {
   "cell_type": "markdown",
   "metadata": {},
   "source": [
    "This analysis is borrowed from Avinash Navlani https://www.datacamp.com/community/tutorials/understanding-logistic-regression-python"
   ]
  },
  {
   "cell_type": "code",
   "execution_count": 1,
   "metadata": {},
   "outputs": [],
   "source": [
    "import pandas as pd\n",
    "import numpy as np\n",
    "from sklearn import preprocessing\n",
    "import pylab\n",
    "from sklearn.linear_model import LogisticRegression\n",
    "from sklearn.model_selection import train_test_split\n",
    "import seaborn as sns\n",
    "sns.set()"
   ]
  },
  {
   "cell_type": "code",
   "execution_count": 2,
   "metadata": {},
   "outputs": [
    {
     "data": {
      "text/html": [
       "<div>\n",
       "<style scoped>\n",
       "    .dataframe tbody tr th:only-of-type {\n",
       "        vertical-align: middle;\n",
       "    }\n",
       "\n",
       "    .dataframe tbody tr th {\n",
       "        vertical-align: top;\n",
       "    }\n",
       "\n",
       "    .dataframe thead th {\n",
       "        text-align: right;\n",
       "    }\n",
       "</style>\n",
       "<table border=\"1\" class=\"dataframe\">\n",
       "  <thead>\n",
       "    <tr style=\"text-align: right;\">\n",
       "      <th></th>\n",
       "      <th>Pregnancies</th>\n",
       "      <th>Glucose</th>\n",
       "      <th>BloodPressure</th>\n",
       "      <th>SkinThickness</th>\n",
       "      <th>Insulin</th>\n",
       "      <th>BMI</th>\n",
       "      <th>DiabetesPedigreeFunction</th>\n",
       "      <th>Age</th>\n",
       "      <th>Outcome</th>\n",
       "    </tr>\n",
       "  </thead>\n",
       "  <tbody>\n",
       "    <tr>\n",
       "      <th>0</th>\n",
       "      <td>6</td>\n",
       "      <td>148</td>\n",
       "      <td>72</td>\n",
       "      <td>35</td>\n",
       "      <td>0</td>\n",
       "      <td>33.6</td>\n",
       "      <td>0.627</td>\n",
       "      <td>50</td>\n",
       "      <td>1</td>\n",
       "    </tr>\n",
       "    <tr>\n",
       "      <th>1</th>\n",
       "      <td>1</td>\n",
       "      <td>85</td>\n",
       "      <td>66</td>\n",
       "      <td>29</td>\n",
       "      <td>0</td>\n",
       "      <td>26.6</td>\n",
       "      <td>0.351</td>\n",
       "      <td>31</td>\n",
       "      <td>0</td>\n",
       "    </tr>\n",
       "    <tr>\n",
       "      <th>2</th>\n",
       "      <td>8</td>\n",
       "      <td>183</td>\n",
       "      <td>64</td>\n",
       "      <td>0</td>\n",
       "      <td>0</td>\n",
       "      <td>23.3</td>\n",
       "      <td>0.672</td>\n",
       "      <td>32</td>\n",
       "      <td>1</td>\n",
       "    </tr>\n",
       "    <tr>\n",
       "      <th>3</th>\n",
       "      <td>1</td>\n",
       "      <td>89</td>\n",
       "      <td>66</td>\n",
       "      <td>23</td>\n",
       "      <td>94</td>\n",
       "      <td>28.1</td>\n",
       "      <td>0.167</td>\n",
       "      <td>21</td>\n",
       "      <td>0</td>\n",
       "    </tr>\n",
       "    <tr>\n",
       "      <th>4</th>\n",
       "      <td>0</td>\n",
       "      <td>137</td>\n",
       "      <td>40</td>\n",
       "      <td>35</td>\n",
       "      <td>168</td>\n",
       "      <td>43.1</td>\n",
       "      <td>2.288</td>\n",
       "      <td>33</td>\n",
       "      <td>1</td>\n",
       "    </tr>\n",
       "  </tbody>\n",
       "</table>\n",
       "</div>"
      ],
      "text/plain": [
       "   Pregnancies  Glucose  BloodPressure  SkinThickness  Insulin   BMI  \\\n",
       "0            6      148             72             35        0  33.6   \n",
       "1            1       85             66             29        0  26.6   \n",
       "2            8      183             64              0        0  23.3   \n",
       "3            1       89             66             23       94  28.1   \n",
       "4            0      137             40             35      168  43.1   \n",
       "\n",
       "   DiabetesPedigreeFunction  Age  Outcome  \n",
       "0                     0.627   50        1  \n",
       "1                     0.351   31        0  \n",
       "2                     0.672   32        1  \n",
       "3                     0.167   21        0  \n",
       "4                     2.288   33        1  "
      ]
     },
     "execution_count": 2,
     "metadata": {},
     "output_type": "execute_result"
    }
   ],
   "source": [
    "pima = pd.read_csv(\"diabetes.csv\")\n",
    "pima.head()"
   ]
  },
  {
   "cell_type": "code",
   "execution_count": 3,
   "metadata": {},
   "outputs": [],
   "source": [
    "X = pima.loc[:, pima.columns != 'Outcome']\n",
    "X_vals = X.values\n",
    "y = pima['Outcome']\n",
    "y_vals = y.values"
   ]
  },
  {
   "cell_type": "code",
   "execution_count": 4,
   "metadata": {},
   "outputs": [],
   "source": [
    "X_train, X_test, y_train, y_test = train_test_split(X, y, test_size=0.2, random_state=0)"
   ]
  },
  {
   "cell_type": "code",
   "execution_count": 5,
   "metadata": {},
   "outputs": [],
   "source": [
    "# instantiate the model (using the default parameters)\n",
    "logreg = LogisticRegression(max_iter=1000)\n",
    "\n",
    "# fit the model with data\n",
    "logreg.fit(X_train, y_train)\n",
    "\n",
    "y_pred = logreg.predict(X_test)"
   ]
  },
  {
   "cell_type": "code",
   "execution_count": 6,
   "metadata": {},
   "outputs": [
    {
     "data": {
      "text/plain": [
       "array([1, 0, 0, 1, 0, 0, 1, 1, 0, 0, 1, 1, 0, 0, 0, 0, 1, 0, 0, 0, 1, 0,\n",
       "       0, 0, 0, 0, 0, 1, 0, 0, 0, 0, 0, 0, 0, 1, 0, 0, 0, 1, 0, 0, 0, 1,\n",
       "       1, 0, 0, 0, 0, 0, 0, 0, 1, 0, 0, 0, 0, 1, 0, 0, 1, 0, 0, 1, 1, 1,\n",
       "       1, 0, 0, 0, 0, 0, 0, 1, 1, 0, 0, 1, 0, 0, 0, 0, 0, 0, 0, 0, 0, 0,\n",
       "       1, 0, 0, 0, 0, 0, 1, 0, 0, 1, 1, 0, 0, 0, 0, 0, 1, 0, 0, 0, 0, 1,\n",
       "       0, 0, 1, 0, 1, 1, 0, 1, 0, 1, 0, 0, 0, 0, 0, 0, 0, 0, 0, 0, 0, 0,\n",
       "       0, 1, 0, 0, 0, 0, 1, 0, 0, 1, 0, 0, 0, 0, 0, 0, 0, 0, 0, 1, 0, 0])"
      ]
     },
     "execution_count": 6,
     "metadata": {},
     "output_type": "execute_result"
    }
   ],
   "source": [
    "y_pred"
   ]
  },
  {
   "cell_type": "code",
   "execution_count": 7,
   "metadata": {},
   "outputs": [
    {
     "data": {
      "text/plain": [
       "array([[0.04011775, 0.95988225],\n",
       "       [0.83480601, 0.16519399],\n",
       "       [0.90533022, 0.09466978],\n",
       "       [0.36653949, 0.63346051],\n",
       "       [0.87708307, 0.12291693],\n",
       "       [0.96190275, 0.03809725],\n",
       "       [0.25877974, 0.74122026],\n",
       "       [0.15272439, 0.84727561],\n",
       "       [0.62434732, 0.37565268],\n",
       "       [0.63252482, 0.36747518],\n",
       "       [0.43006923, 0.56993077],\n",
       "       [0.04061313, 0.95938687],\n",
       "       [0.71437995, 0.28562005],\n",
       "       [0.83001021, 0.16998979],\n",
       "       [0.87701647, 0.12298353],\n",
       "       [0.83966209, 0.16033791],\n",
       "       [0.13700839, 0.86299161],\n",
       "       [0.97299429, 0.02700571],\n",
       "       [0.57171516, 0.42828484],\n",
       "       [0.74607785, 0.25392215],\n",
       "       [0.33466309, 0.66533691],\n",
       "       [0.57861574, 0.42138426],\n",
       "       [0.77749987, 0.22250013],\n",
       "       [0.93490016, 0.06509984],\n",
       "       [0.94942416, 0.05057584],\n",
       "       [0.63462301, 0.36537699],\n",
       "       [0.95441448, 0.04558552],\n",
       "       [0.09284771, 0.90715229],\n",
       "       [0.88622503, 0.11377497],\n",
       "       [0.85577817, 0.14422183],\n",
       "       [0.54017103, 0.45982897],\n",
       "       [0.74646004, 0.25353996],\n",
       "       [0.9059302 , 0.0940698 ],\n",
       "       [0.54235287, 0.45764713],\n",
       "       [0.89779091, 0.10220909],\n",
       "       [0.28093264, 0.71906736],\n",
       "       [0.54434955, 0.45565045],\n",
       "       [0.91396608, 0.08603392],\n",
       "       [0.65839457, 0.34160543],\n",
       "       [0.25209281, 0.74790719],\n",
       "       [0.7167649 , 0.2832351 ],\n",
       "       [0.78130305, 0.21869695],\n",
       "       [0.83970335, 0.16029665],\n",
       "       [0.16717079, 0.83282921],\n",
       "       [0.2562947 , 0.7437053 ],\n",
       "       [0.99130535, 0.00869465],\n",
       "       [0.91315905, 0.08684095],\n",
       "       [0.7948989 , 0.2051011 ],\n",
       "       [0.64511635, 0.35488365],\n",
       "       [0.69781588, 0.30218412],\n",
       "       [0.59325543, 0.40674457],\n",
       "       [0.80810067, 0.19189933],\n",
       "       [0.12619625, 0.87380375],\n",
       "       [0.50226634, 0.49773366],\n",
       "       [0.86177199, 0.13822801],\n",
       "       [0.99727195, 0.00272805],\n",
       "       [0.93755843, 0.06244157],\n",
       "       [0.44131095, 0.55868905],\n",
       "       [0.72129873, 0.27870127],\n",
       "       [0.92670469, 0.07329531],\n",
       "       [0.27500487, 0.72499513],\n",
       "       [0.5340843 , 0.4659157 ],\n",
       "       [0.88999271, 0.11000729],\n",
       "       [0.27505311, 0.72494689],\n",
       "       [0.30722591, 0.69277409],\n",
       "       [0.09496932, 0.90503068],\n",
       "       [0.27930829, 0.72069171],\n",
       "       [0.85646907, 0.14353093],\n",
       "       [0.63752642, 0.36247358],\n",
       "       [0.88929897, 0.11070103],\n",
       "       [0.87354228, 0.12645772],\n",
       "       [0.58884796, 0.41115204],\n",
       "       [0.89864531, 0.10135469],\n",
       "       [0.04864035, 0.95135965],\n",
       "       [0.14697427, 0.85302573],\n",
       "       [0.67940899, 0.32059101],\n",
       "       [0.88715148, 0.11284852],\n",
       "       [0.37546592, 0.62453408],\n",
       "       [0.9278772 , 0.0721228 ],\n",
       "       [0.80580465, 0.19419535],\n",
       "       [0.6640618 , 0.3359382 ],\n",
       "       [0.60620404, 0.39379596],\n",
       "       [0.79342739, 0.20657261],\n",
       "       [0.96823683, 0.03176317],\n",
       "       [0.7929241 , 0.2070759 ],\n",
       "       [0.78339032, 0.21660968],\n",
       "       [0.70989625, 0.29010375],\n",
       "       [0.57624522, 0.42375478],\n",
       "       [0.12509854, 0.87490146],\n",
       "       [0.80806234, 0.19193766],\n",
       "       [0.82957276, 0.17042724],\n",
       "       [0.82043621, 0.17956379],\n",
       "       [0.77018845, 0.22981155],\n",
       "       [0.96043126, 0.03956874],\n",
       "       [0.34581906, 0.65418094],\n",
       "       [0.81021646, 0.18978354],\n",
       "       [0.57713697, 0.42286303],\n",
       "       [0.47968311, 0.52031689],\n",
       "       [0.39651593, 0.60348407],\n",
       "       [0.75261077, 0.24738923],\n",
       "       [0.74373158, 0.25626842],\n",
       "       [0.90835053, 0.09164947],\n",
       "       [0.77933591, 0.22066409],\n",
       "       [0.96255737, 0.03744263],\n",
       "       [0.36147709, 0.63852291],\n",
       "       [0.64845803, 0.35154197],\n",
       "       [0.86527411, 0.13472589],\n",
       "       [0.68959551, 0.31040449],\n",
       "       [0.95825547, 0.04174453],\n",
       "       [0.24437618, 0.75562382],\n",
       "       [0.89383834, 0.10616166],\n",
       "       [0.69492297, 0.30507703],\n",
       "       [0.3754914 , 0.6245086 ],\n",
       "       [0.603086  , 0.396914  ],\n",
       "       [0.47311948, 0.52688052],\n",
       "       [0.37576667, 0.62423333],\n",
       "       [0.89350592, 0.10649408],\n",
       "       [0.34781378, 0.65218622],\n",
       "       [0.89745842, 0.10254158],\n",
       "       [0.25127498, 0.74872502],\n",
       "       [0.61367494, 0.38632506],\n",
       "       [0.62747944, 0.37252056],\n",
       "       [0.70519046, 0.29480954],\n",
       "       [0.54282747, 0.45717253],\n",
       "       [0.78314135, 0.21685865],\n",
       "       [0.9535811 , 0.0464189 ],\n",
       "       [0.68589387, 0.31410613],\n",
       "       [0.63981438, 0.36018562],\n",
       "       [0.52035584, 0.47964416],\n",
       "       [0.62968086, 0.37031914],\n",
       "       [0.63029375, 0.36970625],\n",
       "       [0.96205852, 0.03794148],\n",
       "       [0.94141304, 0.05858696],\n",
       "       [0.24845595, 0.75154405],\n",
       "       [0.70236828, 0.29763172],\n",
       "       [0.59839501, 0.40160499],\n",
       "       [0.86038735, 0.13961265],\n",
       "       [0.61007745, 0.38992255],\n",
       "       [0.333991  , 0.666009  ],\n",
       "       [0.79906665, 0.20093335],\n",
       "       [0.90944613, 0.09055387],\n",
       "       [0.45868045, 0.54131955],\n",
       "       [0.93027529, 0.06972471],\n",
       "       [0.92279935, 0.07720065],\n",
       "       [0.6513028 , 0.3486972 ],\n",
       "       [0.91352598, 0.08647402],\n",
       "       [0.92651125, 0.07348875],\n",
       "       [0.90764632, 0.09235368],\n",
       "       [0.86920488, 0.13079512],\n",
       "       [0.81012892, 0.18987108],\n",
       "       [0.91826226, 0.08173774],\n",
       "       [0.33778681, 0.66221319],\n",
       "       [0.89680247, 0.10319753],\n",
       "       [0.8245706 , 0.1754294 ]])"
      ]
     },
     "execution_count": 7,
     "metadata": {},
     "output_type": "execute_result"
    }
   ],
   "source": [
    "logreg.predict_proba(X_test)"
   ]
  },
  {
   "cell_type": "code",
   "execution_count": 9,
   "metadata": {},
   "outputs": [
    {
     "data": {
      "text/plain": [
       "array([[98,  9],\n",
       "       [18, 29]])"
      ]
     },
     "execution_count": 9,
     "metadata": {},
     "output_type": "execute_result"
    }
   ],
   "source": [
    "from sklearn import metrics\n",
    "cnf_matrix = metrics.confusion_matrix(y_test, y_pred)\n",
    "cnf_matrix"
   ]
  },
  {
   "cell_type": "code",
   "execution_count": 10,
   "metadata": {},
   "outputs": [
    {
     "name": "stdout",
     "output_type": "stream",
     "text": [
      "Accuracy: 0.8246753246753247\n",
      "Precision: 0.7631578947368421\n",
      "Recall: 0.6170212765957447\n"
     ]
    }
   ],
   "source": [
    "print(\"Accuracy:\", metrics.accuracy_score(y_test, y_pred))\n",
    "print(\"Precision:\", metrics.precision_score(y_test, y_pred))\n",
    "print(\"Recall:\", metrics.recall_score(y_test, y_pred))"
   ]
  },
  {
   "cell_type": "code",
   "execution_count": 10,
   "metadata": {},
   "outputs": [
    {
     "data": {
      "text/plain": [
       "array([1, 0, 0, 1, 0, 0, 1, 1, 0, 0, 1, 1, 0, 0, 0, 0, 1, 0, 0, 0, 1, 0,\n",
       "       0, 0, 0, 0, 0, 1, 0, 0, 0, 0, 0, 0, 0, 1, 0, 0, 0, 1, 0, 0, 0, 1,\n",
       "       1, 0, 0, 0, 0, 0, 0, 0, 1, 0, 0, 0, 0, 1, 0, 0, 1, 0, 0, 1, 1, 1,\n",
       "       1, 0, 0, 0, 0, 0, 0, 1, 1, 0, 0, 1, 0, 0, 0, 0, 0, 0, 0, 0, 0, 0,\n",
       "       1, 0, 0, 0, 0, 0, 1, 0, 0, 1, 1, 0, 0, 0, 0, 0, 1, 0, 0, 0, 0, 1,\n",
       "       0, 0, 1, 0, 1, 1, 0, 1, 0, 1, 0, 0, 0, 0, 0, 0, 0, 0, 0, 0, 0, 0,\n",
       "       0, 1, 0, 0, 0, 0, 1, 0, 0, 1, 0, 0, 0, 0, 0, 0, 0, 0, 0, 1, 0, 0])"
      ]
     },
     "execution_count": 10,
     "metadata": {},
     "output_type": "execute_result"
    }
   ],
   "source": [
    "y_pred"
   ]
  },
  {
   "cell_type": "code",
   "execution_count": 11,
   "metadata": {},
   "outputs": [
    {
     "data": {
      "image/png": "[encoded data removed]",
      "text/plain": [
       "<Figure size 640x480 with 1 Axes>"
      ]
     },
     "metadata": {},
     "output_type": "display_data"
    }
   ],
   "source": [
    "y_pred_proba = logreg.predict_proba(X_test)[::,1]\n",
    "fpr, tpr, _ = metrics.roc_curve(y_test,  y_pred_proba)\n",
    "auc = metrics.roc_auc_score(y_test, y_pred_proba)\n",
    "pylab.plot(fpr, tpr, label=\"auc=\"+str(auc), color='r')\n",
    "pylab.xlabel('false positive rate')\n",
    "pylab.ylabel('true positive rate')\n",
    "#pylab.legend(loc=4)\n",
    "pylab.savefig('pima-roc.png', format='png')\n",
    "pylab.show()"
   ]
  },
  {
   "cell_type": "code",
   "execution_count": 12,
   "metadata": {},
   "outputs": [
    {
     "data": {
      "text/plain": [
       "array([0.        , 0.        , 0.        , 0.01869159, 0.01869159,\n",
       "       0.02803738, 0.02803738, 0.05607477, 0.05607477, 0.06542056,\n",
       "       0.06542056, 0.07476636, 0.07476636, 0.14018692, 0.14018692,\n",
       "       0.1588785 , 0.1588785 , 0.17757009, 0.17757009, 0.18691589,\n",
       "       0.18691589, 0.26168224, 0.26168224, 0.30841121, 0.30841121,\n",
       "       0.3271028 , 0.3271028 , 0.34579439, 0.34579439, 0.37383178,\n",
       "       0.37383178, 0.44859813, 0.44859813, 0.48598131, 0.48598131,\n",
       "       0.8411215 , 0.8411215 , 1.        ])"
      ]
     },
     "execution_count": 12,
     "metadata": {},
     "output_type": "execute_result"
    }
   ],
   "source": [
    "fpr"
   ]
  },
  {
   "cell_type": "code",
   "execution_count": 13,
   "metadata": {},
   "outputs": [
    {
     "data": {
      "text/plain": [
       "array([0.        , 0.0212766 , 0.04255319, 0.04255319, 0.25531915,\n",
       "       0.25531915, 0.46808511, 0.46808511, 0.4893617 , 0.4893617 ,\n",
       "       0.59574468, 0.59574468, 0.61702128, 0.61702128, 0.63829787,\n",
       "       0.63829787, 0.68085106, 0.68085106, 0.72340426, 0.72340426,\n",
       "       0.74468085, 0.74468085, 0.82978723, 0.82978723, 0.87234043,\n",
       "       0.87234043, 0.89361702, 0.89361702, 0.91489362, 0.91489362,\n",
       "       0.93617021, 0.93617021, 0.95744681, 0.95744681, 0.9787234 ,\n",
       "       0.9787234 , 1.        , 1.        ])"
      ]
     },
     "execution_count": 13,
     "metadata": {},
     "output_type": "execute_result"
    }
   ],
   "source": [
    "tpr"
   ]
  },
  {
   "cell_type": "code",
   "execution_count": 14,
   "metadata": {},
   "outputs": [
    {
     "data": {
      "image/png": "[encoded data removed]",
      "text/plain": [
       "<Figure size 640x480 with 1 Axes>"
      ]
     },
     "metadata": {},
     "output_type": "display_data"
    }
   ],
   "source": [
    "y_pred_proba = logreg.predict_proba(X_test)[::,1]\n",
    "fpr, tpr, _ = metrics.roc_curve(y_test,  y_pred_proba)\n",
    "auc = metrics.roc_auc_score(y_test, y_pred_proba)\n",
    "pylab.plot(fpr, tpr, label=\"auc=\" + str(auc), color='r')\n",
    "pylab.fill_between(fpr, tpr)\n",
    "pylab.xlabel('false positive rate')\n",
    "pylab.ylabel('true positive rate')\n",
    "pylab.legend(loc=4)\n",
    "pylab.savefig('pima-roc-auc.png', format='png')\n",
    "pylab.show()"
   ]
  },
  {
   "cell_type": "code",
   "execution_count": 12,
   "metadata": {},
   "outputs": [
    {
     "data": {
      "text/plain": [
       "0.13513434304858868"
      ]
     },
     "execution_count": 12,
     "metadata": {},
     "output_type": "execute_result"
    }
   ],
   "source": [
    "metrics.brier_score_loss(y_test, y_pred_proba)"
   ]
  },
  {
   "cell_type": "code",
   "execution_count": null,
   "metadata": {},
   "outputs": [],
   "source": []
  }
 ],
 "metadata": {
  "kernelspec": {
   "display_name": "cmpinf2120",
   "language": "python",
   "name": "cmpinf2120"
  },
  "language_info": {
   "codemirror_mode": {
    "name": "ipython",
    "version": 3
   },
   "file_extension": ".py",
   "mimetype": "text/x-python",
   "name": "python",
   "nbconvert_exporter": "python",
   "pygments_lexer": "ipython3",
   "version": "3.9.7"
  }
 },
 "nbformat": 4,
 "nbformat_minor": 4
}

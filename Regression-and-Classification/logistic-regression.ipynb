{
 "cells": [
  {
   "cell_type": "markdown",
   "metadata": {},
   "source": [
    "This analysis is borrowed from Avinash Navlani https://www.datacamp.com/community/tutorials/understanding-logistic-regression-python"
   ]
  },
  {
   "cell_type": "code",
   "execution_count": 1,
   "metadata": {},
   "outputs": [],
   "source": [
    "import pandas as pd\n",
    "import numpy as np\n",
    "from sklearn import preprocessing\n",
    "import pylab\n",
    "from sklearn.linear_model import LogisticRegression\n",
    "from sklearn.model_selection import train_test_split\n",
    "import seaborn as sns\n",
    "sns.set()"
   ]
  },
  {
   "cell_type": "code",
   "execution_count": 2,
   "metadata": {},
   "outputs": [
    {
     "data": {
      "text/html": [
       "<div>\n",
       "<style scoped>\n",
       "    .dataframe tbody tr th:only-of-type {\n",
       "        vertical-align: middle;\n",
       "    }\n",
       "\n",
       "    .dataframe tbody tr th {\n",
       "        vertical-align: top;\n",
       "    }\n",
       "\n",
       "    .dataframe thead th {\n",
       "        text-align: right;\n",
       "    }\n",
       "</style>\n",
       "<table border=\"1\" class=\"dataframe\">\n",
       "  <thead>\n",
       "    <tr style=\"text-align: right;\">\n",
       "      <th></th>\n",
       "      <th>Pregnancies</th>\n",
       "      <th>Glucose</th>\n",
       "      <th>BloodPressure</th>\n",
       "      <th>SkinThickness</th>\n",
       "      <th>Insulin</th>\n",
       "      <th>BMI</th>\n",
       "      <th>DiabetesPedigreeFunction</th>\n",
       "      <th>Age</th>\n",
       "      <th>Outcome</th>\n",
       "    </tr>\n",
       "  </thead>\n",
       "  <tbody>\n",
       "    <tr>\n",
       "      <th>0</th>\n",
       "      <td>6</td>\n",
       "      <td>148</td>\n",
       "      <td>72</td>\n",
       "      <td>35</td>\n",
       "      <td>0</td>\n",
       "      <td>33.6</td>\n",
       "      <td>0.627</td>\n",
       "      <td>50</td>\n",
       "      <td>1</td>\n",
       "    </tr>\n",
       "    <tr>\n",
       "      <th>1</th>\n",
       "      <td>1</td>\n",
       "      <td>85</td>\n",
       "      <td>66</td>\n",
       "      <td>29</td>\n",
       "      <td>0</td>\n",
       "      <td>26.6</td>\n",
       "      <td>0.351</td>\n",
       "      <td>31</td>\n",
       "      <td>0</td>\n",
       "    </tr>\n",
       "    <tr>\n",
       "      <th>2</th>\n",
       "      <td>8</td>\n",
       "      <td>183</td>\n",
       "      <td>64</td>\n",
       "      <td>0</td>\n",
       "      <td>0</td>\n",
       "      <td>23.3</td>\n",
       "      <td>0.672</td>\n",
       "      <td>32</td>\n",
       "      <td>1</td>\n",
       "    </tr>\n",
       "    <tr>\n",
       "      <th>3</th>\n",
       "      <td>1</td>\n",
       "      <td>89</td>\n",
       "      <td>66</td>\n",
       "      <td>23</td>\n",
       "      <td>94</td>\n",
       "      <td>28.1</td>\n",
       "      <td>0.167</td>\n",
       "      <td>21</td>\n",
       "      <td>0</td>\n",
       "    </tr>\n",
       "    <tr>\n",
       "      <th>4</th>\n",
       "      <td>0</td>\n",
       "      <td>137</td>\n",
       "      <td>40</td>\n",
       "      <td>35</td>\n",
       "      <td>168</td>\n",
       "      <td>43.1</td>\n",
       "      <td>2.288</td>\n",
       "      <td>33</td>\n",
       "      <td>1</td>\n",
       "    </tr>\n",
       "  </tbody>\n",
       "</table>\n",
       "</div>"
      ],
      "text/plain": [
       "   Pregnancies  Glucose  BloodPressure  SkinThickness  Insulin   BMI  \\\n",
       "0            6      148             72             35        0  33.6   \n",
       "1            1       85             66             29        0  26.6   \n",
       "2            8      183             64              0        0  23.3   \n",
       "3            1       89             66             23       94  28.1   \n",
       "4            0      137             40             35      168  43.1   \n",
       "\n",
       "   DiabetesPedigreeFunction  Age  Outcome  \n",
       "0                     0.627   50        1  \n",
       "1                     0.351   31        0  \n",
       "2                     0.672   32        1  \n",
       "3                     0.167   21        0  \n",
       "4                     2.288   33        1  "
      ]
     },
     "execution_count": 2,
     "metadata": {},
     "output_type": "execute_result"
    }
   ],
   "source": [
    "pima = pd.read_csv(\"diabetes.csv\")\n",
    "pima.head()"
   ]
  },
  {
   "cell_type": "code",
   "execution_count": 3,
   "metadata": {},
   "outputs": [],
   "source": [
    "X = pima.loc[:, pima.columns != 'Outcome']\n",
    "X_vals = X.values\n",
    "y = pima['Outcome']\n",
    "y_vals = y.values"
   ]
  },
  {
   "cell_type": "code",
   "execution_count": 4,
   "metadata": {},
   "outputs": [],
   "source": [
    "X_train, X_test, y_train, y_test = train_test_split(X, y, test_size=0.2, random_state=0)"
   ]
  },
  {
   "cell_type": "code",
   "execution_count": 5,
   "metadata": {},
   "outputs": [],
   "source": [
    "# instantiate the model (using the default parameters)\n",
    "logreg = LogisticRegression(max_iter=1000)\n",
    "\n",
    "# fit the model with data\n",
    "logreg.fit(X_train,y_train)\n",
    "\n",
    "y_pred = logreg.predict(X_test)"
   ]
  },
  {
   "cell_type": "code",
   "execution_count": 6,
   "metadata": {},
   "outputs": [
    {
     "data": {
      "text/plain": [
       "array([1, 0, 0, 1, 0, 0, 1, 1, 0, 0, 1, 1, 0, 0, 0, 0, 1, 0, 0, 0, 1, 0,\n",
       "       0, 0, 0, 0, 0, 1, 0, 0, 0, 0, 0, 0, 0, 1, 0, 0, 0, 1, 0, 0, 0, 1,\n",
       "       1, 0, 0, 0, 0, 0, 0, 0, 1, 0, 0, 0, 0, 1, 0, 0, 1, 0, 0, 1, 1, 1,\n",
       "       1, 0, 0, 0, 0, 0, 0, 1, 1, 0, 0, 1, 0, 0, 0, 0, 0, 0, 0, 0, 0, 0,\n",
       "       1, 0, 0, 0, 0, 0, 1, 0, 0, 1, 1, 0, 0, 0, 0, 0, 1, 0, 0, 0, 0, 1,\n",
       "       0, 0, 1, 0, 1, 1, 0, 1, 0, 1, 0, 0, 0, 0, 0, 0, 0, 0, 0, 0, 0, 0,\n",
       "       0, 1, 0, 0, 0, 0, 1, 0, 0, 1, 0, 0, 0, 0, 0, 0, 0, 0, 0, 1, 0, 0])"
      ]
     },
     "execution_count": 6,
     "metadata": {},
     "output_type": "execute_result"
    }
   ],
   "source": [
    "y_pred"
   ]
  },
  {
   "cell_type": "code",
   "execution_count": 7,
   "metadata": {},
   "outputs": [
    {
     "data": {
      "text/plain": [
       "array([[0.04009825, 0.95990175],\n",
       "       [0.83482527, 0.16517473],\n",
       "       [0.90533757, 0.09466243],\n",
       "       [0.36653233, 0.63346767],\n",
       "       [0.87708235, 0.12291765],\n",
       "       [0.96191218, 0.03808782],\n",
       "       [0.25878237, 0.74121763],\n",
       "       [0.15272214, 0.84727786],\n",
       "       [0.62441618, 0.37558382],\n",
       "       [0.63262212, 0.36737788],\n",
       "       [0.43007778, 0.56992222],\n",
       "       [0.04060622, 0.95939378],\n",
       "       [0.71441406, 0.28558594],\n",
       "       [0.83007615, 0.16992385],\n",
       "       [0.87706768, 0.12293232],\n",
       "       [0.83968074, 0.16031926],\n",
       "       [0.13698679, 0.86301321],\n",
       "       [0.97299917, 0.02700083],\n",
       "       [0.57176721, 0.42823279],\n",
       "       [0.74611069, 0.25388931],\n",
       "       [0.33463537, 0.66536463],\n",
       "       [0.57855751, 0.42144249],\n",
       "       [0.77751304, 0.22248696],\n",
       "       [0.93493224, 0.06506776],\n",
       "       [0.94943552, 0.05056448],\n",
       "       [0.63459635, 0.36540365],\n",
       "       [0.95441827, 0.04558173],\n",
       "       [0.09285092, 0.90714908],\n",
       "       [0.88622628, 0.11377372],\n",
       "       [0.8557697 , 0.1442303 ],\n",
       "       [0.54022195, 0.45977805],\n",
       "       [0.7464919 , 0.2535081 ],\n",
       "       [0.90595087, 0.09404913],\n",
       "       [0.54239389, 0.45760611],\n",
       "       [0.89778484, 0.10221516],\n",
       "       [0.28082844, 0.71917156],\n",
       "       [0.54438383, 0.45561617],\n",
       "       [0.91397082, 0.08602918],\n",
       "       [0.65839948, 0.34160052],\n",
       "       [0.25200071, 0.74799929],\n",
       "       [0.71676195, 0.28323805],\n",
       "       [0.78129401, 0.21870599],\n",
       "       [0.83972774, 0.16027226],\n",
       "       [0.16708492, 0.83291508],\n",
       "       [0.25631973, 0.74368027],\n",
       "       [0.99130829, 0.00869171],\n",
       "       [0.91316645, 0.08683355],\n",
       "       [0.79490286, 0.20509714],\n",
       "       [0.64517399, 0.35482601],\n",
       "       [0.69777619, 0.30222381],\n",
       "       [0.59320134, 0.40679866],\n",
       "       [0.80810256, 0.19189744],\n",
       "       [0.12620389, 0.87379611],\n",
       "       [0.502276  , 0.497724  ],\n",
       "       [0.86180958, 0.13819042],\n",
       "       [0.99727402, 0.00272598],\n",
       "       [0.93757572, 0.06242428],\n",
       "       [0.44124261, 0.55875739],\n",
       "       [0.72124352, 0.27875648],\n",
       "       [0.92669956, 0.07330044],\n",
       "       [0.27501232, 0.72498768],\n",
       "       [0.53408783, 0.46591217],\n",
       "       [0.88996997, 0.11003003],\n",
       "       [0.27495909, 0.72504091],\n",
       "       [0.30709307, 0.69290693],\n",
       "       [0.09492397, 0.90507603],\n",
       "       [0.27923899, 0.72076101],\n",
       "       [0.85646384, 0.14353616],\n",
       "       [0.63751785, 0.36248215],\n",
       "       [0.88933645, 0.11066355],\n",
       "       [0.87352284, 0.12647716],\n",
       "       [0.58878318, 0.41121682],\n",
       "       [0.89866177, 0.10133823],\n",
       "       [0.04862111, 0.95137889],\n",
       "       [0.14689163, 0.85310837],\n",
       "       [0.67934876, 0.32065124],\n",
       "       [0.88720554, 0.11279446],\n",
       "       [0.37548377, 0.62451623],\n",
       "       [0.92789668, 0.07210332],\n",
       "       [0.80582955, 0.19417045],\n",
       "       [0.6640579 , 0.3359421 ],\n",
       "       [0.60622937, 0.39377063],\n",
       "       [0.79346178, 0.20653822],\n",
       "       [0.96824335, 0.03175665],\n",
       "       [0.79294305, 0.20705695],\n",
       "       [0.78338185, 0.21661815],\n",
       "       [0.70982372, 0.29017628],\n",
       "       [0.57625721, 0.42374279],\n",
       "       [0.12507954, 0.87492046],\n",
       "       [0.80808158, 0.19191842],\n",
       "       [0.82957474, 0.17042526],\n",
       "       [0.82040639, 0.17959361],\n",
       "       [0.77018534, 0.22981466],\n",
       "       [0.96043826, 0.03956174],\n",
       "       [0.34581001, 0.65418999],\n",
       "       [0.81022479, 0.18977521],\n",
       "       [0.57720426, 0.42279574],\n",
       "       [0.47967701, 0.52032299],\n",
       "       [0.39666364, 0.60333636],\n",
       "       [0.75261089, 0.24738911],\n",
       "       [0.74376996, 0.25623004],\n",
       "       [0.90836263, 0.09163737],\n",
       "       [0.779316  , 0.220684  ],\n",
       "       [0.96256381, 0.03743619],\n",
       "       [0.36147342, 0.63852658],\n",
       "       [0.64846194, 0.35153806],\n",
       "       [0.86528401, 0.13471599],\n",
       "       [0.68955939, 0.31044061],\n",
       "       [0.95826431, 0.04173569],\n",
       "       [0.24427592, 0.75572408],\n",
       "       [0.89386001, 0.10613999],\n",
       "       [0.69497601, 0.30502399],\n",
       "       [0.37541   , 0.62459   ],\n",
       "       [0.60315133, 0.39684867],\n",
       "       [0.47311359, 0.52688641],\n",
       "       [0.3756852 , 0.6243148 ],\n",
       "       [0.89353181, 0.10646819],\n",
       "       [0.34774755, 0.65225245],\n",
       "       [0.89745696, 0.10254304],\n",
       "       [0.2513261 , 0.7486739 ],\n",
       "       [0.61370027, 0.38629973],\n",
       "       [0.62757815, 0.37242185],\n",
       "       [0.70521277, 0.29478723],\n",
       "       [0.54286816, 0.45713184],\n",
       "       [0.78311083, 0.21688917],\n",
       "       [0.95358287, 0.04641713],\n",
       "       [0.68589696, 0.31410304],\n",
       "       [0.63983684, 0.36016316],\n",
       "       [0.52035059, 0.47964941],\n",
       "       [0.62955919, 0.37044081],\n",
       "       [0.63029289, 0.36970711],\n",
       "       [0.96205744, 0.03794256],\n",
       "       [0.94142468, 0.05857532],\n",
       "       [0.24848889, 0.75151111],\n",
       "       [0.70243576, 0.29756424],\n",
       "       [0.59847058, 0.40152942],\n",
       "       [0.86038542, 0.13961458],\n",
       "       [0.61009235, 0.38990765],\n",
       "       [0.3338893 , 0.6661107 ],\n",
       "       [0.79903812, 0.20096188],\n",
       "       [0.90945564, 0.09054436],\n",
       "       [0.45865597, 0.54134403],\n",
       "       [0.93026821, 0.06973179],\n",
       "       [0.92282383, 0.07717617],\n",
       "       [0.65128294, 0.34871706],\n",
       "       [0.91352852, 0.08647148],\n",
       "       [0.92652831, 0.07347169],\n",
       "       [0.90767937, 0.09232063],\n",
       "       [0.86922754, 0.13077246],\n",
       "       [0.81019297, 0.18980703],\n",
       "       [0.91828008, 0.08171992],\n",
       "       [0.33769385, 0.66230615],\n",
       "       [0.89680402, 0.10319598],\n",
       "       [0.8246004 , 0.1753996 ]])"
      ]
     },
     "execution_count": 7,
     "metadata": {},
     "output_type": "execute_result"
    }
   ],
   "source": [
    "logreg.predict_proba(X_test)"
   ]
  },
  {
   "cell_type": "code",
   "execution_count": 22,
   "metadata": {},
   "outputs": [
    {
     "data": {
      "text/plain": [
       "array([[98,  9],\n",
       "       [18, 29]])"
      ]
     },
     "execution_count": 22,
     "metadata": {},
     "output_type": "execute_result"
    }
   ],
   "source": [
    "from sklearn import metrics\n",
    "cnf_matrix = metrics.confusion_matrix(y_test, y_pred)\n",
    "cnf_matrix"
   ]
  },
  {
   "cell_type": "code",
   "execution_count": 23,
   "metadata": {},
   "outputs": [
    {
     "name": "stdout",
     "output_type": "stream",
     "text": [
      "Accuracy: 0.8246753246753247\n",
      "Precision: 0.7631578947368421\n",
      "Recall: 0.6170212765957447\n"
     ]
    }
   ],
   "source": [
    "print(\"Accuracy:\", metrics.accuracy_score(y_test, y_pred))\n",
    "print(\"Precision:\", metrics.precision_score(y_test, y_pred))\n",
    "print(\"Recall:\", metrics.recall_score(y_test, y_pred))"
   ]
  },
  {
   "cell_type": "code",
   "execution_count": 24,
   "metadata": {},
   "outputs": [
    {
     "data": {
      "text/plain": [
       "array([1, 0, 0, 1, 0, 0, 1, 1, 0, 0, 1, 1, 0, 0, 0, 0, 1, 0, 0, 0, 1, 0,\n",
       "       0, 0, 0, 0, 0, 1, 0, 0, 0, 0, 0, 0, 0, 1, 0, 0, 0, 1, 0, 0, 0, 1,\n",
       "       1, 0, 0, 0, 0, 0, 0, 0, 1, 0, 0, 0, 0, 1, 0, 0, 1, 0, 0, 1, 1, 1,\n",
       "       1, 0, 0, 0, 0, 0, 0, 1, 1, 0, 0, 1, 0, 0, 0, 0, 0, 0, 0, 0, 0, 0,\n",
       "       1, 0, 0, 0, 0, 0, 1, 0, 0, 1, 1, 0, 0, 0, 0, 0, 1, 0, 0, 0, 0, 1,\n",
       "       0, 0, 1, 0, 1, 1, 0, 1, 0, 1, 0, 0, 0, 0, 0, 0, 0, 0, 0, 0, 0, 0,\n",
       "       0, 1, 0, 0, 0, 0, 1, 0, 0, 1, 0, 0, 0, 0, 0, 0, 0, 0, 0, 1, 0, 0])"
      ]
     },
     "execution_count": 24,
     "metadata": {},
     "output_type": "execute_result"
    }
   ],
   "source": [
    "y_pred"
   ]
  },
  {
   "cell_type": "code",
   "execution_count": 34,
   "metadata": {},
   "outputs": [
    {
     "data": {
      "image/png": "[encoded data removed]",
      "text/plain": [
       "<Figure size 432x288 with 1 Axes>"
      ]
     },
     "metadata": {},
     "output_type": "display_data"
    }
   ],
   "source": [
    "y_pred_proba = logreg.predict_proba(X_test)[::,1]\n",
    "fpr, tpr, _ = metrics.roc_curve(y_test,  y_pred_proba)\n",
    "auc = metrics.roc_auc_score(y_test, y_pred_proba)\n",
    "pylab.plot(fpr,tpr,label=\"auc=\"+str(auc), color='r')\n",
    "pylab.xlabel('false positive rate')\n",
    "pylab.ylabel('true positive rate')\n",
    "#pylab.legend(loc=4)\n",
    "pylab.savefig('pima-roc.png', format='png')\n",
    "pylab.show()"
   ]
  },
  {
   "cell_type": "code",
   "execution_count": 35,
   "metadata": {},
   "outputs": [
    {
     "data": {
      "image/png": "[encoded data removed]",
      "text/plain": [
       "<Figure size 432x288 with 1 Axes>"
      ]
     },
     "metadata": {},
     "output_type": "display_data"
    }
   ],
   "source": [
    "y_pred_proba = logreg.predict_proba(X_test)[::,1]\n",
    "fpr, tpr, _ = metrics.roc_curve(y_test,  y_pred_proba)\n",
    "auc = metrics.roc_auc_score(y_test, y_pred_proba)\n",
    "pylab.plot(fpr,tpr,label=\"auc=\"+str(auc), color='r')\n",
    "pylab.fill_between(fpr, tpr)\n",
    "pylab.xlabel('false positive rate')\n",
    "pylab.ylabel('true positive rate')\n",
    "pylab.legend(loc=4)\n",
    "pylab.savefig('pima-roc-auc.png', format='png')\n",
    "pylab.show()"
   ]
  },
  {
   "cell_type": "code",
   "execution_count": 37,
   "metadata": {},
   "outputs": [
    {
     "data": {
      "text/plain": [
       "0.17532467532467533"
      ]
     },
     "execution_count": 37,
     "metadata": {},
     "output_type": "execute_result"
    }
   ],
   "source": [
    "metrics.brier_score_loss(y_test, y_pred)"
   ]
  },
  {
   "cell_type": "code",
   "execution_count": null,
   "metadata": {},
   "outputs": [],
   "source": []
  }
 ],
 "metadata": {
  "kernelspec": {
   "display_name": "cmpinf2120",
   "language": "python",
   "name": "cmpinf2120"
  },
  "language_info": {
   "codemirror_mode": {
    "name": "ipython",
    "version": 3
   },
   "file_extension": ".py",
   "mimetype": "text/x-python",
   "name": "python",
   "nbconvert_exporter": "python",
   "pygments_lexer": "ipython3",
   "version": "3.9.1"
  }
 },
 "nbformat": 4,
 "nbformat_minor": 4
}
